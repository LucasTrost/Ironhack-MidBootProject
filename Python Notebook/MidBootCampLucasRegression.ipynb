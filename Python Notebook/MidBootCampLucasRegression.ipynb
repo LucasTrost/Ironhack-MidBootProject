{
 "cells": [
  {
   "cell_type": "markdown",
   "metadata": {},
   "source": [
    "## Case Study Regression"
   ]
  },
  {
   "cell_type": "markdown",
   "metadata": {},
   "source": [
    "### 1. Import packages"
   ]
  },
  {
   "cell_type": "code",
   "execution_count": 141,
   "metadata": {},
   "outputs": [],
   "source": [
    "# list of imports and password security\n",
    "import pandas as pd\n",
    "import seaborn as sns\n",
    "import matplotlib.pyplot as plt\n",
    "import numpy as np\n",
    "import sklearn\n",
    "import warnings\n",
    "import pymysql\n",
    "import sqlalchemy\n",
    "from sqlalchemy import inspect\n",
    "from sqlalchemy import create_engine\n",
    "import getpass\n",
    "import os\n",
    "import matplotlib.dates as mdates\n",
    "import datetime as dt\n",
    "import scipy.stats as stats\n",
    "import math"
   ]
  },
  {
   "cell_type": "markdown",
   "metadata": {},
   "source": [
    "### 1.1 Import data"
   ]
  },
  {
   "cell_type": "code",
   "execution_count": 142,
   "metadata": {},
   "outputs": [
    {
     "data": {
      "text/plain": [
       "'/Users/lucastrost/Documents/GitHub/Ironhack-MidBootProject/datasets'"
      ]
     },
     "execution_count": 142,
     "metadata": {},
     "output_type": "execute_result"
    }
   ],
   "source": [
    "pwd"
   ]
  },
  {
   "cell_type": "code",
   "execution_count": 143,
   "metadata": {},
   "outputs": [
    {
     "name": "stdout",
     "output_type": "stream",
     "text": [
      "/Users/lucastrost/Documents/GitHub/Ironhack-MidBootProject\n"
     ]
    }
   ],
   "source": [
    "cd .."
   ]
  },
  {
   "cell_type": "code",
   "execution_count": 144,
   "metadata": {},
   "outputs": [
    {
     "name": "stdout",
     "output_type": "stream",
     "text": [
      "/Users/lucastrost/Documents/GitHub/Ironhack-MidBootProject/datasets\n"
     ]
    }
   ],
   "source": [
    "cd datasets/"
   ]
  },
  {
   "cell_type": "code",
   "execution_count": 145,
   "metadata": {},
   "outputs": [
    {
     "name": "stdout",
     "output_type": "stream",
     "text": [
      "regression_data.csv     regression_data.xls     regression_dataSQL.csv\r\n"
     ]
    }
   ],
   "source": [
    "ls"
   ]
  },
  {
   "cell_type": "code",
   "execution_count": 146,
   "metadata": {},
   "outputs": [],
   "source": [
    "df = pd.read_csv('regression_dataSQL.csv') # regression_dataSQL.csv is the bug free version"
   ]
  },
  {
   "cell_type": "markdown",
   "metadata": {},
   "source": [
    "### 2. Basic cleaning and wrangling"
   ]
  },
  {
   "cell_type": "markdown",
   "metadata": {},
   "source": [
    "### 2.1 data quality check"
   ]
  },
  {
   "cell_type": "code",
   "execution_count": 147,
   "metadata": {},
   "outputs": [
    {
     "data": {
      "text/html": [
       "<div>\n",
       "<style scoped>\n",
       "    .dataframe tbody tr th:only-of-type {\n",
       "        vertical-align: middle;\n",
       "    }\n",
       "\n",
       "    .dataframe tbody tr th {\n",
       "        vertical-align: top;\n",
       "    }\n",
       "\n",
       "    .dataframe thead th {\n",
       "        text-align: right;\n",
       "    }\n",
       "</style>\n",
       "<table border=\"1\" class=\"dataframe\">\n",
       "  <thead>\n",
       "    <tr style=\"text-align: right;\">\n",
       "      <th></th>\n",
       "      <th>Unnamed: 0</th>\n",
       "      <th>id</th>\n",
       "      <th>date</th>\n",
       "      <th>bedrooms</th>\n",
       "      <th>bathrooms</th>\n",
       "      <th>sqft_living</th>\n",
       "      <th>sqft_lot</th>\n",
       "      <th>floors</th>\n",
       "      <th>waterfront</th>\n",
       "      <th>view</th>\n",
       "      <th>...</th>\n",
       "      <th>sqft_above</th>\n",
       "      <th>sqft_basement</th>\n",
       "      <th>yr_built</th>\n",
       "      <th>yr_renovated</th>\n",
       "      <th>zipcode</th>\n",
       "      <th>lat</th>\n",
       "      <th>long</th>\n",
       "      <th>sqft_living15</th>\n",
       "      <th>sqft_lot15</th>\n",
       "      <th>price</th>\n",
       "    </tr>\n",
       "  </thead>\n",
       "  <tbody>\n",
       "    <tr>\n",
       "      <th>0</th>\n",
       "      <td>0</td>\n",
       "      <td>7129300520</td>\n",
       "      <td>2014-10-13</td>\n",
       "      <td>3</td>\n",
       "      <td>1.00</td>\n",
       "      <td>1180</td>\n",
       "      <td>5650</td>\n",
       "      <td>1.0</td>\n",
       "      <td>0</td>\n",
       "      <td>0</td>\n",
       "      <td>...</td>\n",
       "      <td>1180</td>\n",
       "      <td>0</td>\n",
       "      <td>1955</td>\n",
       "      <td>0</td>\n",
       "      <td>98178</td>\n",
       "      <td>47.5112</td>\n",
       "      <td>-122.257</td>\n",
       "      <td>1340</td>\n",
       "      <td>5650</td>\n",
       "      <td>221900</td>\n",
       "    </tr>\n",
       "    <tr>\n",
       "      <th>1</th>\n",
       "      <td>1</td>\n",
       "      <td>6414100192</td>\n",
       "      <td>2014-12-09</td>\n",
       "      <td>3</td>\n",
       "      <td>2.25</td>\n",
       "      <td>2570</td>\n",
       "      <td>7242</td>\n",
       "      <td>2.0</td>\n",
       "      <td>0</td>\n",
       "      <td>0</td>\n",
       "      <td>...</td>\n",
       "      <td>2170</td>\n",
       "      <td>400</td>\n",
       "      <td>1951</td>\n",
       "      <td>1991</td>\n",
       "      <td>98125</td>\n",
       "      <td>47.7210</td>\n",
       "      <td>-122.319</td>\n",
       "      <td>1690</td>\n",
       "      <td>7639</td>\n",
       "      <td>538000</td>\n",
       "    </tr>\n",
       "    <tr>\n",
       "      <th>2</th>\n",
       "      <td>2</td>\n",
       "      <td>5631500400</td>\n",
       "      <td>2015-02-25</td>\n",
       "      <td>2</td>\n",
       "      <td>1.00</td>\n",
       "      <td>770</td>\n",
       "      <td>10000</td>\n",
       "      <td>1.0</td>\n",
       "      <td>0</td>\n",
       "      <td>0</td>\n",
       "      <td>...</td>\n",
       "      <td>770</td>\n",
       "      <td>0</td>\n",
       "      <td>1933</td>\n",
       "      <td>0</td>\n",
       "      <td>98028</td>\n",
       "      <td>47.7379</td>\n",
       "      <td>-122.233</td>\n",
       "      <td>2720</td>\n",
       "      <td>8062</td>\n",
       "      <td>180000</td>\n",
       "    </tr>\n",
       "    <tr>\n",
       "      <th>3</th>\n",
       "      <td>3</td>\n",
       "      <td>2487200875</td>\n",
       "      <td>2014-12-09</td>\n",
       "      <td>4</td>\n",
       "      <td>3.00</td>\n",
       "      <td>1960</td>\n",
       "      <td>5000</td>\n",
       "      <td>1.0</td>\n",
       "      <td>0</td>\n",
       "      <td>0</td>\n",
       "      <td>...</td>\n",
       "      <td>1050</td>\n",
       "      <td>910</td>\n",
       "      <td>1965</td>\n",
       "      <td>0</td>\n",
       "      <td>98136</td>\n",
       "      <td>47.5208</td>\n",
       "      <td>-122.393</td>\n",
       "      <td>1360</td>\n",
       "      <td>5000</td>\n",
       "      <td>604000</td>\n",
       "    </tr>\n",
       "    <tr>\n",
       "      <th>4</th>\n",
       "      <td>4</td>\n",
       "      <td>1954400510</td>\n",
       "      <td>2015-02-18</td>\n",
       "      <td>3</td>\n",
       "      <td>2.00</td>\n",
       "      <td>1680</td>\n",
       "      <td>8080</td>\n",
       "      <td>1.0</td>\n",
       "      <td>0</td>\n",
       "      <td>0</td>\n",
       "      <td>...</td>\n",
       "      <td>1680</td>\n",
       "      <td>0</td>\n",
       "      <td>1987</td>\n",
       "      <td>0</td>\n",
       "      <td>98074</td>\n",
       "      <td>47.6168</td>\n",
       "      <td>-122.045</td>\n",
       "      <td>1800</td>\n",
       "      <td>7503</td>\n",
       "      <td>510000</td>\n",
       "    </tr>\n",
       "    <tr>\n",
       "      <th>...</th>\n",
       "      <td>...</td>\n",
       "      <td>...</td>\n",
       "      <td>...</td>\n",
       "      <td>...</td>\n",
       "      <td>...</td>\n",
       "      <td>...</td>\n",
       "      <td>...</td>\n",
       "      <td>...</td>\n",
       "      <td>...</td>\n",
       "      <td>...</td>\n",
       "      <td>...</td>\n",
       "      <td>...</td>\n",
       "      <td>...</td>\n",
       "      <td>...</td>\n",
       "      <td>...</td>\n",
       "      <td>...</td>\n",
       "      <td>...</td>\n",
       "      <td>...</td>\n",
       "      <td>...</td>\n",
       "      <td>...</td>\n",
       "      <td>...</td>\n",
       "    </tr>\n",
       "    <tr>\n",
       "      <th>21592</th>\n",
       "      <td>21592</td>\n",
       "      <td>263000018</td>\n",
       "      <td>2014-05-21</td>\n",
       "      <td>3</td>\n",
       "      <td>2.50</td>\n",
       "      <td>1530</td>\n",
       "      <td>1131</td>\n",
       "      <td>3.0</td>\n",
       "      <td>0</td>\n",
       "      <td>0</td>\n",
       "      <td>...</td>\n",
       "      <td>1530</td>\n",
       "      <td>0</td>\n",
       "      <td>2009</td>\n",
       "      <td>0</td>\n",
       "      <td>98103</td>\n",
       "      <td>47.6993</td>\n",
       "      <td>-122.346</td>\n",
       "      <td>1530</td>\n",
       "      <td>1509</td>\n",
       "      <td>360000</td>\n",
       "    </tr>\n",
       "    <tr>\n",
       "      <th>21593</th>\n",
       "      <td>21593</td>\n",
       "      <td>6600060120</td>\n",
       "      <td>2015-02-23</td>\n",
       "      <td>4</td>\n",
       "      <td>2.50</td>\n",
       "      <td>2310</td>\n",
       "      <td>5813</td>\n",
       "      <td>2.0</td>\n",
       "      <td>0</td>\n",
       "      <td>0</td>\n",
       "      <td>...</td>\n",
       "      <td>2310</td>\n",
       "      <td>0</td>\n",
       "      <td>2014</td>\n",
       "      <td>0</td>\n",
       "      <td>98146</td>\n",
       "      <td>47.5107</td>\n",
       "      <td>-122.362</td>\n",
       "      <td>1830</td>\n",
       "      <td>7200</td>\n",
       "      <td>400000</td>\n",
       "    </tr>\n",
       "    <tr>\n",
       "      <th>21594</th>\n",
       "      <td>21594</td>\n",
       "      <td>1523300141</td>\n",
       "      <td>2014-06-23</td>\n",
       "      <td>2</td>\n",
       "      <td>0.75</td>\n",
       "      <td>1020</td>\n",
       "      <td>1350</td>\n",
       "      <td>2.0</td>\n",
       "      <td>0</td>\n",
       "      <td>0</td>\n",
       "      <td>...</td>\n",
       "      <td>1020</td>\n",
       "      <td>0</td>\n",
       "      <td>2009</td>\n",
       "      <td>0</td>\n",
       "      <td>98144</td>\n",
       "      <td>47.5944</td>\n",
       "      <td>-122.299</td>\n",
       "      <td>1020</td>\n",
       "      <td>2007</td>\n",
       "      <td>402101</td>\n",
       "    </tr>\n",
       "    <tr>\n",
       "      <th>21595</th>\n",
       "      <td>21595</td>\n",
       "      <td>291310100</td>\n",
       "      <td>2015-01-16</td>\n",
       "      <td>3</td>\n",
       "      <td>2.50</td>\n",
       "      <td>1600</td>\n",
       "      <td>2388</td>\n",
       "      <td>2.0</td>\n",
       "      <td>0</td>\n",
       "      <td>0</td>\n",
       "      <td>...</td>\n",
       "      <td>1600</td>\n",
       "      <td>0</td>\n",
       "      <td>2004</td>\n",
       "      <td>0</td>\n",
       "      <td>98027</td>\n",
       "      <td>47.5345</td>\n",
       "      <td>-122.069</td>\n",
       "      <td>1410</td>\n",
       "      <td>1287</td>\n",
       "      <td>400000</td>\n",
       "    </tr>\n",
       "    <tr>\n",
       "      <th>21596</th>\n",
       "      <td>21596</td>\n",
       "      <td>1523300157</td>\n",
       "      <td>2014-10-15</td>\n",
       "      <td>2</td>\n",
       "      <td>0.75</td>\n",
       "      <td>1020</td>\n",
       "      <td>1076</td>\n",
       "      <td>2.0</td>\n",
       "      <td>0</td>\n",
       "      <td>0</td>\n",
       "      <td>...</td>\n",
       "      <td>1020</td>\n",
       "      <td>0</td>\n",
       "      <td>2008</td>\n",
       "      <td>0</td>\n",
       "      <td>98144</td>\n",
       "      <td>47.5941</td>\n",
       "      <td>-122.299</td>\n",
       "      <td>1020</td>\n",
       "      <td>1357</td>\n",
       "      <td>325000</td>\n",
       "    </tr>\n",
       "  </tbody>\n",
       "</table>\n",
       "<p>21597 rows × 22 columns</p>\n",
       "</div>"
      ],
      "text/plain": [
       "       Unnamed: 0          id        date  bedrooms  bathrooms  sqft_living  \\\n",
       "0               0  7129300520  2014-10-13         3       1.00         1180   \n",
       "1               1  6414100192  2014-12-09         3       2.25         2570   \n",
       "2               2  5631500400  2015-02-25         2       1.00          770   \n",
       "3               3  2487200875  2014-12-09         4       3.00         1960   \n",
       "4               4  1954400510  2015-02-18         3       2.00         1680   \n",
       "...           ...         ...         ...       ...        ...          ...   \n",
       "21592       21592   263000018  2014-05-21         3       2.50         1530   \n",
       "21593       21593  6600060120  2015-02-23         4       2.50         2310   \n",
       "21594       21594  1523300141  2014-06-23         2       0.75         1020   \n",
       "21595       21595   291310100  2015-01-16         3       2.50         1600   \n",
       "21596       21596  1523300157  2014-10-15         2       0.75         1020   \n",
       "\n",
       "       sqft_lot  floors  waterfront  view  ...  sqft_above  sqft_basement  \\\n",
       "0          5650     1.0           0     0  ...        1180              0   \n",
       "1          7242     2.0           0     0  ...        2170            400   \n",
       "2         10000     1.0           0     0  ...         770              0   \n",
       "3          5000     1.0           0     0  ...        1050            910   \n",
       "4          8080     1.0           0     0  ...        1680              0   \n",
       "...         ...     ...         ...   ...  ...         ...            ...   \n",
       "21592      1131     3.0           0     0  ...        1530              0   \n",
       "21593      5813     2.0           0     0  ...        2310              0   \n",
       "21594      1350     2.0           0     0  ...        1020              0   \n",
       "21595      2388     2.0           0     0  ...        1600              0   \n",
       "21596      1076     2.0           0     0  ...        1020              0   \n",
       "\n",
       "       yr_built  yr_renovated  zipcode      lat     long  sqft_living15  \\\n",
       "0          1955             0    98178  47.5112 -122.257           1340   \n",
       "1          1951          1991    98125  47.7210 -122.319           1690   \n",
       "2          1933             0    98028  47.7379 -122.233           2720   \n",
       "3          1965             0    98136  47.5208 -122.393           1360   \n",
       "4          1987             0    98074  47.6168 -122.045           1800   \n",
       "...         ...           ...      ...      ...      ...            ...   \n",
       "21592      2009             0    98103  47.6993 -122.346           1530   \n",
       "21593      2014             0    98146  47.5107 -122.362           1830   \n",
       "21594      2009             0    98144  47.5944 -122.299           1020   \n",
       "21595      2004             0    98027  47.5345 -122.069           1410   \n",
       "21596      2008             0    98144  47.5941 -122.299           1020   \n",
       "\n",
       "       sqft_lot15   price  \n",
       "0            5650  221900  \n",
       "1            7639  538000  \n",
       "2            8062  180000  \n",
       "3            5000  604000  \n",
       "4            7503  510000  \n",
       "...           ...     ...  \n",
       "21592        1509  360000  \n",
       "21593        7200  400000  \n",
       "21594        2007  402101  \n",
       "21595        1287  400000  \n",
       "21596        1357  325000  \n",
       "\n",
       "[21597 rows x 22 columns]"
      ]
     },
     "execution_count": 147,
     "metadata": {},
     "output_type": "execute_result"
    }
   ],
   "source": [
    "df"
   ]
  },
  {
   "cell_type": "code",
   "execution_count": 148,
   "metadata": {},
   "outputs": [
    {
     "name": "stdout",
     "output_type": "stream",
     "text": [
      "<class 'pandas.core.frame.DataFrame'>\n",
      "RangeIndex: 21597 entries, 0 to 21596\n",
      "Data columns (total 22 columns):\n",
      " #   Column         Non-Null Count  Dtype  \n",
      "---  ------         --------------  -----  \n",
      " 0   Unnamed: 0     21597 non-null  int64  \n",
      " 1   id             21597 non-null  int64  \n",
      " 2   date           21597 non-null  object \n",
      " 3   bedrooms       21597 non-null  int64  \n",
      " 4   bathrooms      21597 non-null  float64\n",
      " 5   sqft_living    21597 non-null  int64  \n",
      " 6   sqft_lot       21597 non-null  int64  \n",
      " 7   floors         21597 non-null  float64\n",
      " 8   waterfront     21597 non-null  int64  \n",
      " 9   view           21597 non-null  int64  \n",
      " 10  condition      21597 non-null  int64  \n",
      " 11  grade          21597 non-null  int64  \n",
      " 12  sqft_above     21597 non-null  int64  \n",
      " 13  sqft_basement  21597 non-null  int64  \n",
      " 14  yr_built       21597 non-null  int64  \n",
      " 15  yr_renovated   21597 non-null  int64  \n",
      " 16  zipcode        21597 non-null  int64  \n",
      " 17  lat            21597 non-null  float64\n",
      " 18  long           21597 non-null  float64\n",
      " 19  sqft_living15  21597 non-null  int64  \n",
      " 20  sqft_lot15     21597 non-null  int64  \n",
      " 21  price          21597 non-null  int64  \n",
      "dtypes: float64(4), int64(17), object(1)\n",
      "memory usage: 3.6+ MB\n"
     ]
    }
   ],
   "source": [
    "df.info()"
   ]
  },
  {
   "cell_type": "markdown",
   "metadata": {},
   "source": [
    "### 2.1.1 Check for duplicates"
   ]
  },
  {
   "cell_type": "code",
   "execution_count": 149,
   "metadata": {},
   "outputs": [
    {
     "data": {
      "text/plain": [
       "0"
      ]
     },
     "execution_count": 149,
     "metadata": {},
     "output_type": "execute_result"
    }
   ],
   "source": [
    "# count duplicates \n",
    "df.duplicated().sum()"
   ]
  },
  {
   "cell_type": "markdown",
   "metadata": {},
   "source": [
    "### 2.1.2 Check for nulls"
   ]
  },
  {
   "cell_type": "code",
   "execution_count": 150,
   "metadata": {},
   "outputs": [
    {
     "data": {
      "text/plain": [
       "Unnamed: 0       0\n",
       "id               0\n",
       "date             0\n",
       "bedrooms         0\n",
       "bathrooms        0\n",
       "sqft_living      0\n",
       "sqft_lot         0\n",
       "floors           0\n",
       "waterfront       0\n",
       "view             0\n",
       "condition        0\n",
       "grade            0\n",
       "sqft_above       0\n",
       "sqft_basement    0\n",
       "yr_built         0\n",
       "yr_renovated     0\n",
       "zipcode          0\n",
       "lat              0\n",
       "long             0\n",
       "sqft_living15    0\n",
       "sqft_lot15       0\n",
       "price            0\n",
       "dtype: int64"
      ]
     },
     "execution_count": 150,
     "metadata": {},
     "output_type": "execute_result"
    }
   ],
   "source": [
    "# count nulls\n",
    "df.isna().sum()"
   ]
  },
  {
   "cell_type": "markdown",
   "metadata": {},
   "source": [
    "### 2.2 drop unecessary columns"
   ]
  },
  {
   "cell_type": "code",
   "execution_count": 151,
   "metadata": {},
   "outputs": [],
   "source": [
    "# Unnamed: 0 seems to be some form of indexing\n",
    "df = df.drop('Unnamed: 0', axis = 1)"
   ]
  },
  {
   "cell_type": "markdown",
   "metadata": {},
   "source": [
    "### 3. EDA"
   ]
  },
  {
   "cell_type": "markdown",
   "metadata": {},
   "source": [
    "### 3.1 Verifying data types"
   ]
  },
  {
   "cell_type": "code",
   "execution_count": 152,
   "metadata": {},
   "outputs": [],
   "source": [
    "# All columns except date are numeric "
   ]
  },
  {
   "cell_type": "code",
   "execution_count": 153,
   "metadata": {},
   "outputs": [],
   "source": [
    "# Float values for bathrooms and floors raise question marks"
   ]
  },
  {
   "cell_type": "code",
   "execution_count": 154,
   "metadata": {},
   "outputs": [
    {
     "data": {
      "text/plain": [
       "array([1. , 2. , 1.5, 3. , 2.5, 3.5])"
      ]
     },
     "execution_count": 154,
     "metadata": {},
     "output_type": "execute_result"
    }
   ],
   "source": [
    "df['floors'].unique()"
   ]
  },
  {
   "cell_type": "code",
   "execution_count": 155,
   "metadata": {},
   "outputs": [
    {
     "data": {
      "text/plain": [
       "1.0    10673\n",
       "2.0     8235\n",
       "1.5     1910\n",
       "3.0      611\n",
       "2.5      161\n",
       "3.5        7\n",
       "Name: floors, dtype: int64"
      ]
     },
     "execution_count": 155,
     "metadata": {},
     "output_type": "execute_result"
    }
   ],
   "source": [
    "df['floors'].value_counts()"
   ]
  },
  {
   "cell_type": "code",
   "execution_count": 156,
   "metadata": {},
   "outputs": [],
   "source": [
    "# online research show both to be valid hence we keep them"
   ]
  },
  {
   "cell_type": "markdown",
   "metadata": {},
   "source": [
    "### 3.1.1 Saving DataFrame backup pre EDA"
   ]
  },
  {
   "cell_type": "code",
   "execution_count": 157,
   "metadata": {},
   "outputs": [],
   "source": [
    "# before doing any significant EDA steps, lets save our current df\n",
    "df_preEDA = df.copy()"
   ]
  },
  {
   "cell_type": "markdown",
   "metadata": {},
   "source": [
    "### 3.1.2 Dropping columns"
   ]
  },
  {
   "cell_type": "code",
   "execution_count": 158,
   "metadata": {},
   "outputs": [],
   "source": [
    "# as our goal is to create a machine learning model date and id would lead to over-fitting, \n",
    "# which is why we should drop those columns\n",
    "# lat and long are also unique, most likely leading to overfitting\n",
    "df = df.drop(['id', 'date','lat','long'], axis = 1)"
   ]
  },
  {
   "cell_type": "code",
   "execution_count": 159,
   "metadata": {},
   "outputs": [
    {
     "data": {
      "text/html": [
       "<div>\n",
       "<style scoped>\n",
       "    .dataframe tbody tr th:only-of-type {\n",
       "        vertical-align: middle;\n",
       "    }\n",
       "\n",
       "    .dataframe tbody tr th {\n",
       "        vertical-align: top;\n",
       "    }\n",
       "\n",
       "    .dataframe thead th {\n",
       "        text-align: right;\n",
       "    }\n",
       "</style>\n",
       "<table border=\"1\" class=\"dataframe\">\n",
       "  <thead>\n",
       "    <tr style=\"text-align: right;\">\n",
       "      <th></th>\n",
       "      <th>bedrooms</th>\n",
       "      <th>bathrooms</th>\n",
       "      <th>sqft_living</th>\n",
       "      <th>sqft_lot</th>\n",
       "      <th>floors</th>\n",
       "      <th>waterfront</th>\n",
       "      <th>view</th>\n",
       "      <th>condition</th>\n",
       "      <th>grade</th>\n",
       "      <th>sqft_above</th>\n",
       "      <th>sqft_basement</th>\n",
       "      <th>yr_built</th>\n",
       "      <th>yr_renovated</th>\n",
       "      <th>zipcode</th>\n",
       "      <th>sqft_living15</th>\n",
       "      <th>sqft_lot15</th>\n",
       "      <th>price</th>\n",
       "    </tr>\n",
       "  </thead>\n",
       "  <tbody>\n",
       "    <tr>\n",
       "      <th>0</th>\n",
       "      <td>3</td>\n",
       "      <td>1.00</td>\n",
       "      <td>1180</td>\n",
       "      <td>5650</td>\n",
       "      <td>1.0</td>\n",
       "      <td>0</td>\n",
       "      <td>0</td>\n",
       "      <td>3</td>\n",
       "      <td>7</td>\n",
       "      <td>1180</td>\n",
       "      <td>0</td>\n",
       "      <td>1955</td>\n",
       "      <td>0</td>\n",
       "      <td>98178</td>\n",
       "      <td>1340</td>\n",
       "      <td>5650</td>\n",
       "      <td>221900</td>\n",
       "    </tr>\n",
       "    <tr>\n",
       "      <th>1</th>\n",
       "      <td>3</td>\n",
       "      <td>2.25</td>\n",
       "      <td>2570</td>\n",
       "      <td>7242</td>\n",
       "      <td>2.0</td>\n",
       "      <td>0</td>\n",
       "      <td>0</td>\n",
       "      <td>3</td>\n",
       "      <td>7</td>\n",
       "      <td>2170</td>\n",
       "      <td>400</td>\n",
       "      <td>1951</td>\n",
       "      <td>1991</td>\n",
       "      <td>98125</td>\n",
       "      <td>1690</td>\n",
       "      <td>7639</td>\n",
       "      <td>538000</td>\n",
       "    </tr>\n",
       "    <tr>\n",
       "      <th>2</th>\n",
       "      <td>2</td>\n",
       "      <td>1.00</td>\n",
       "      <td>770</td>\n",
       "      <td>10000</td>\n",
       "      <td>1.0</td>\n",
       "      <td>0</td>\n",
       "      <td>0</td>\n",
       "      <td>3</td>\n",
       "      <td>6</td>\n",
       "      <td>770</td>\n",
       "      <td>0</td>\n",
       "      <td>1933</td>\n",
       "      <td>0</td>\n",
       "      <td>98028</td>\n",
       "      <td>2720</td>\n",
       "      <td>8062</td>\n",
       "      <td>180000</td>\n",
       "    </tr>\n",
       "    <tr>\n",
       "      <th>3</th>\n",
       "      <td>4</td>\n",
       "      <td>3.00</td>\n",
       "      <td>1960</td>\n",
       "      <td>5000</td>\n",
       "      <td>1.0</td>\n",
       "      <td>0</td>\n",
       "      <td>0</td>\n",
       "      <td>5</td>\n",
       "      <td>7</td>\n",
       "      <td>1050</td>\n",
       "      <td>910</td>\n",
       "      <td>1965</td>\n",
       "      <td>0</td>\n",
       "      <td>98136</td>\n",
       "      <td>1360</td>\n",
       "      <td>5000</td>\n",
       "      <td>604000</td>\n",
       "    </tr>\n",
       "    <tr>\n",
       "      <th>4</th>\n",
       "      <td>3</td>\n",
       "      <td>2.00</td>\n",
       "      <td>1680</td>\n",
       "      <td>8080</td>\n",
       "      <td>1.0</td>\n",
       "      <td>0</td>\n",
       "      <td>0</td>\n",
       "      <td>3</td>\n",
       "      <td>8</td>\n",
       "      <td>1680</td>\n",
       "      <td>0</td>\n",
       "      <td>1987</td>\n",
       "      <td>0</td>\n",
       "      <td>98074</td>\n",
       "      <td>1800</td>\n",
       "      <td>7503</td>\n",
       "      <td>510000</td>\n",
       "    </tr>\n",
       "    <tr>\n",
       "      <th>...</th>\n",
       "      <td>...</td>\n",
       "      <td>...</td>\n",
       "      <td>...</td>\n",
       "      <td>...</td>\n",
       "      <td>...</td>\n",
       "      <td>...</td>\n",
       "      <td>...</td>\n",
       "      <td>...</td>\n",
       "      <td>...</td>\n",
       "      <td>...</td>\n",
       "      <td>...</td>\n",
       "      <td>...</td>\n",
       "      <td>...</td>\n",
       "      <td>...</td>\n",
       "      <td>...</td>\n",
       "      <td>...</td>\n",
       "      <td>...</td>\n",
       "    </tr>\n",
       "    <tr>\n",
       "      <th>21592</th>\n",
       "      <td>3</td>\n",
       "      <td>2.50</td>\n",
       "      <td>1530</td>\n",
       "      <td>1131</td>\n",
       "      <td>3.0</td>\n",
       "      <td>0</td>\n",
       "      <td>0</td>\n",
       "      <td>3</td>\n",
       "      <td>8</td>\n",
       "      <td>1530</td>\n",
       "      <td>0</td>\n",
       "      <td>2009</td>\n",
       "      <td>0</td>\n",
       "      <td>98103</td>\n",
       "      <td>1530</td>\n",
       "      <td>1509</td>\n",
       "      <td>360000</td>\n",
       "    </tr>\n",
       "    <tr>\n",
       "      <th>21593</th>\n",
       "      <td>4</td>\n",
       "      <td>2.50</td>\n",
       "      <td>2310</td>\n",
       "      <td>5813</td>\n",
       "      <td>2.0</td>\n",
       "      <td>0</td>\n",
       "      <td>0</td>\n",
       "      <td>3</td>\n",
       "      <td>8</td>\n",
       "      <td>2310</td>\n",
       "      <td>0</td>\n",
       "      <td>2014</td>\n",
       "      <td>0</td>\n",
       "      <td>98146</td>\n",
       "      <td>1830</td>\n",
       "      <td>7200</td>\n",
       "      <td>400000</td>\n",
       "    </tr>\n",
       "    <tr>\n",
       "      <th>21594</th>\n",
       "      <td>2</td>\n",
       "      <td>0.75</td>\n",
       "      <td>1020</td>\n",
       "      <td>1350</td>\n",
       "      <td>2.0</td>\n",
       "      <td>0</td>\n",
       "      <td>0</td>\n",
       "      <td>3</td>\n",
       "      <td>7</td>\n",
       "      <td>1020</td>\n",
       "      <td>0</td>\n",
       "      <td>2009</td>\n",
       "      <td>0</td>\n",
       "      <td>98144</td>\n",
       "      <td>1020</td>\n",
       "      <td>2007</td>\n",
       "      <td>402101</td>\n",
       "    </tr>\n",
       "    <tr>\n",
       "      <th>21595</th>\n",
       "      <td>3</td>\n",
       "      <td>2.50</td>\n",
       "      <td>1600</td>\n",
       "      <td>2388</td>\n",
       "      <td>2.0</td>\n",
       "      <td>0</td>\n",
       "      <td>0</td>\n",
       "      <td>3</td>\n",
       "      <td>8</td>\n",
       "      <td>1600</td>\n",
       "      <td>0</td>\n",
       "      <td>2004</td>\n",
       "      <td>0</td>\n",
       "      <td>98027</td>\n",
       "      <td>1410</td>\n",
       "      <td>1287</td>\n",
       "      <td>400000</td>\n",
       "    </tr>\n",
       "    <tr>\n",
       "      <th>21596</th>\n",
       "      <td>2</td>\n",
       "      <td>0.75</td>\n",
       "      <td>1020</td>\n",
       "      <td>1076</td>\n",
       "      <td>2.0</td>\n",
       "      <td>0</td>\n",
       "      <td>0</td>\n",
       "      <td>3</td>\n",
       "      <td>7</td>\n",
       "      <td>1020</td>\n",
       "      <td>0</td>\n",
       "      <td>2008</td>\n",
       "      <td>0</td>\n",
       "      <td>98144</td>\n",
       "      <td>1020</td>\n",
       "      <td>1357</td>\n",
       "      <td>325000</td>\n",
       "    </tr>\n",
       "  </tbody>\n",
       "</table>\n",
       "<p>21597 rows × 17 columns</p>\n",
       "</div>"
      ],
      "text/plain": [
       "       bedrooms  bathrooms  sqft_living  sqft_lot  floors  waterfront  view  \\\n",
       "0             3       1.00         1180      5650     1.0           0     0   \n",
       "1             3       2.25         2570      7242     2.0           0     0   \n",
       "2             2       1.00          770     10000     1.0           0     0   \n",
       "3             4       3.00         1960      5000     1.0           0     0   \n",
       "4             3       2.00         1680      8080     1.0           0     0   \n",
       "...         ...        ...          ...       ...     ...         ...   ...   \n",
       "21592         3       2.50         1530      1131     3.0           0     0   \n",
       "21593         4       2.50         2310      5813     2.0           0     0   \n",
       "21594         2       0.75         1020      1350     2.0           0     0   \n",
       "21595         3       2.50         1600      2388     2.0           0     0   \n",
       "21596         2       0.75         1020      1076     2.0           0     0   \n",
       "\n",
       "       condition  grade  sqft_above  sqft_basement  yr_built  yr_renovated  \\\n",
       "0              3      7        1180              0      1955             0   \n",
       "1              3      7        2170            400      1951          1991   \n",
       "2              3      6         770              0      1933             0   \n",
       "3              5      7        1050            910      1965             0   \n",
       "4              3      8        1680              0      1987             0   \n",
       "...          ...    ...         ...            ...       ...           ...   \n",
       "21592          3      8        1530              0      2009             0   \n",
       "21593          3      8        2310              0      2014             0   \n",
       "21594          3      7        1020              0      2009             0   \n",
       "21595          3      8        1600              0      2004             0   \n",
       "21596          3      7        1020              0      2008             0   \n",
       "\n",
       "       zipcode  sqft_living15  sqft_lot15   price  \n",
       "0        98178           1340        5650  221900  \n",
       "1        98125           1690        7639  538000  \n",
       "2        98028           2720        8062  180000  \n",
       "3        98136           1360        5000  604000  \n",
       "4        98074           1800        7503  510000  \n",
       "...        ...            ...         ...     ...  \n",
       "21592    98103           1530        1509  360000  \n",
       "21593    98146           1830        7200  400000  \n",
       "21594    98144           1020        2007  402101  \n",
       "21595    98027           1410        1287  400000  \n",
       "21596    98144           1020        1357  325000  \n",
       "\n",
       "[21597 rows x 17 columns]"
      ]
     },
     "execution_count": 159,
     "metadata": {},
     "output_type": "execute_result"
    }
   ],
   "source": [
    "df"
   ]
  },
  {
   "cell_type": "markdown",
   "metadata": {},
   "source": [
    "### 3.2 Understanding our Data"
   ]
  },
  {
   "cell_type": "code",
   "execution_count": 160,
   "metadata": {},
   "outputs": [],
   "source": [
    "# prior to working in python the data has been worked with in Tableau and SQL "
   ]
  },
  {
   "cell_type": "markdown",
   "metadata": {},
   "source": [
    "### 3.2.1 Outliers"
   ]
  },
  {
   "cell_type": "code",
   "execution_count": 161,
   "metadata": {},
   "outputs": [],
   "source": [
    "# generally price outliers should be kept regarding this case, \n",
    "# as we would heavily alter our data/results by removing all of our priciest properties "
   ]
  },
  {
   "cell_type": "code",
   "execution_count": 162,
   "metadata": {},
   "outputs": [
    {
     "data": {
      "image/png": "[encoded data removed]",
      "text/plain": [
       "<Figure size 864x576 with 1 Axes>"
      ]
     },
     "metadata": {},
     "output_type": "display_data"
    }
   ],
   "source": [
    "sns.boxplot(data = df['price']);"
   ]
  },
  {
   "cell_type": "code",
   "execution_count": 163,
   "metadata": {},
   "outputs": [],
   "source": [
    "# due to our previous experience with the data we know there to be an outlier regarding bedrooms"
   ]
  },
  {
   "cell_type": "code",
   "execution_count": 164,
   "metadata": {},
   "outputs": [
    {
     "data": {
      "image/png": "[encoded data removed]",
      "text/plain": [
       "<Figure size 864x576 with 1 Axes>"
      ]
     },
     "metadata": {},
     "output_type": "display_data"
    }
   ],
   "source": [
    "sns.boxplot(data = df['bedrooms']);"
   ]
  },
  {
   "cell_type": "code",
   "execution_count": 165,
   "metadata": {},
   "outputs": [
    {
     "data": {
      "text/plain": [
       "3     9824\n",
       "4     6882\n",
       "2     2760\n",
       "5     1601\n",
       "6      272\n",
       "1      196\n",
       "7       38\n",
       "8       13\n",
       "9        6\n",
       "10       3\n",
       "11       1\n",
       "33       1\n",
       "Name: bedrooms, dtype: int64"
      ]
     },
     "execution_count": 165,
     "metadata": {},
     "output_type": "execute_result"
    }
   ],
   "source": [
    "df['bedrooms'].value_counts()"
   ]
  },
  {
   "cell_type": "code",
   "execution_count": 166,
   "metadata": {},
   "outputs": [
    {
     "data": {
      "text/html": [
       "<div>\n",
       "<style scoped>\n",
       "    .dataframe tbody tr th:only-of-type {\n",
       "        vertical-align: middle;\n",
       "    }\n",
       "\n",
       "    .dataframe tbody tr th {\n",
       "        vertical-align: top;\n",
       "    }\n",
       "\n",
       "    .dataframe thead th {\n",
       "        text-align: right;\n",
       "    }\n",
       "</style>\n",
       "<table border=\"1\" class=\"dataframe\">\n",
       "  <thead>\n",
       "    <tr style=\"text-align: right;\">\n",
       "      <th></th>\n",
       "      <th>bedrooms</th>\n",
       "      <th>bathrooms</th>\n",
       "      <th>sqft_living</th>\n",
       "      <th>sqft_lot</th>\n",
       "      <th>floors</th>\n",
       "      <th>waterfront</th>\n",
       "      <th>view</th>\n",
       "      <th>condition</th>\n",
       "      <th>grade</th>\n",
       "      <th>sqft_above</th>\n",
       "      <th>sqft_basement</th>\n",
       "      <th>yr_built</th>\n",
       "      <th>yr_renovated</th>\n",
       "      <th>zipcode</th>\n",
       "      <th>sqft_living15</th>\n",
       "      <th>sqft_lot15</th>\n",
       "      <th>price</th>\n",
       "    </tr>\n",
       "  </thead>\n",
       "  <tbody>\n",
       "    <tr>\n",
       "      <th>15856</th>\n",
       "      <td>33</td>\n",
       "      <td>1.75</td>\n",
       "      <td>1620</td>\n",
       "      <td>6000</td>\n",
       "      <td>1.0</td>\n",
       "      <td>0</td>\n",
       "      <td>0</td>\n",
       "      <td>5</td>\n",
       "      <td>7</td>\n",
       "      <td>1040</td>\n",
       "      <td>580</td>\n",
       "      <td>1947</td>\n",
       "      <td>0</td>\n",
       "      <td>98103</td>\n",
       "      <td>1330</td>\n",
       "      <td>4700</td>\n",
       "      <td>640000</td>\n",
       "    </tr>\n",
       "  </tbody>\n",
       "</table>\n",
       "</div>"
      ],
      "text/plain": [
       "       bedrooms  bathrooms  sqft_living  sqft_lot  floors  waterfront  view  \\\n",
       "15856        33       1.75         1620      6000     1.0           0     0   \n",
       "\n",
       "       condition  grade  sqft_above  sqft_basement  yr_built  yr_renovated  \\\n",
       "15856          5      7        1040            580      1947             0   \n",
       "\n",
       "       zipcode  sqft_living15  sqft_lot15   price  \n",
       "15856    98103           1330        4700  640000  "
      ]
     },
     "execution_count": 166,
     "metadata": {},
     "output_type": "execute_result"
    }
   ],
   "source": [
    "df.loc[df['bedrooms'] == 33]"
   ]
  },
  {
   "cell_type": "code",
   "execution_count": 167,
   "metadata": {},
   "outputs": [],
   "source": [
    "# the property with 33 bedrooms appears illogical and can be dropped, perhaps bad data or wrong entry. \n",
    "df = df[df['bedrooms']!=33]"
   ]
  },
  {
   "cell_type": "code",
   "execution_count": 168,
   "metadata": {},
   "outputs": [],
   "source": [
    "df = df.reset_index(drop=True) # after deleting a row we must reset our index"
   ]
  },
  {
   "cell_type": "code",
   "execution_count": 169,
   "metadata": {},
   "outputs": [
    {
     "data": {
      "text/plain": [
       "3     9824\n",
       "4     6882\n",
       "2     2760\n",
       "5     1601\n",
       "6      272\n",
       "1      196\n",
       "7       38\n",
       "8       13\n",
       "9        6\n",
       "10       3\n",
       "11       1\n",
       "Name: bedrooms, dtype: int64"
      ]
     },
     "execution_count": 169,
     "metadata": {},
     "output_type": "execute_result"
    }
   ],
   "source": [
    "df['bedrooms'].value_counts()"
   ]
  },
  {
   "cell_type": "markdown",
   "metadata": {},
   "source": [
    "### 3.2.2 Correlations"
   ]
  },
  {
   "cell_type": "code",
   "execution_count": 170,
   "metadata": {},
   "outputs": [],
   "source": [
    "# adjust size\n",
    "sns.set(rc={'figure.figsize':(15,10)})"
   ]
  },
  {
   "cell_type": "code",
   "execution_count": 171,
   "metadata": {},
   "outputs": [
    {
     "data": {
      "image/png": "[encoded data removed]",
      "text/plain": [
       "<Figure size 1080x720 with 2 Axes>"
      ]
     },
     "metadata": {},
     "output_type": "display_data"
    }
   ],
   "source": [
    "# correlation matrix(heatmap)\n",
    "corr = df.corr()\n",
    "mask = np.zeros_like(corr)\n",
    "mask[np.triu_indices_from(mask)] = True\n",
    "sns.heatmap(df.corr(), annot=True, mask = mask);"
   ]
  },
  {
   "cell_type": "code",
   "execution_count": 172,
   "metadata": {},
   "outputs": [],
   "source": [
    "# The heatmap shows multiple highly correlated columns, e.g. sqft.living and bathrooms."
   ]
  },
  {
   "cell_type": "code",
   "execution_count": 173,
   "metadata": {},
   "outputs": [],
   "source": [
    "# Logically speaking those columns are certainly different, thus we will keep them for now"
   ]
  },
  {
   "cell_type": "markdown",
   "metadata": {},
   "source": [
    "### 3.3 Scaling"
   ]
  },
  {
   "cell_type": "code",
   "execution_count": 175,
   "metadata": {},
   "outputs": [],
   "source": [
    "# import and define MinMaxScaler\n",
    "from sklearn.preprocessing import MinMaxScaler\n",
    "scaler = MinMaxScaler()\n",
    "# apply scaler to all columns \n",
    "df[df.columns] = scaler.fit_transform(df[df.columns])"
   ]
  },
  {
   "cell_type": "code",
   "execution_count": 36,
   "metadata": {
    "collapsed": true
   },
   "outputs": [
    {
     "data": {
      "text/html": [
       "<div>\n",
       "<style scoped>\n",
       "    .dataframe tbody tr th:only-of-type {\n",
       "        vertical-align: middle;\n",
       "    }\n",
       "\n",
       "    .dataframe tbody tr th {\n",
       "        vertical-align: top;\n",
       "    }\n",
       "\n",
       "    .dataframe thead th {\n",
       "        text-align: right;\n",
       "    }\n",
       "</style>\n",
       "<table border=\"1\" class=\"dataframe\">\n",
       "  <thead>\n",
       "    <tr style=\"text-align: right;\">\n",
       "      <th></th>\n",
       "      <th>bedrooms</th>\n",
       "      <th>bathrooms</th>\n",
       "      <th>sqft_living</th>\n",
       "      <th>sqft_lot</th>\n",
       "      <th>floors</th>\n",
       "      <th>waterfront</th>\n",
       "      <th>view</th>\n",
       "      <th>condition</th>\n",
       "      <th>grade</th>\n",
       "      <th>sqft_above</th>\n",
       "      <th>sqft_basement</th>\n",
       "      <th>yr_built</th>\n",
       "      <th>yr_renovated</th>\n",
       "      <th>zipcode</th>\n",
       "      <th>sqft_living15</th>\n",
       "      <th>sqft_lot15</th>\n",
       "      <th>price</th>\n",
       "    </tr>\n",
       "  </thead>\n",
       "  <tbody>\n",
       "    <tr>\n",
       "      <th>0</th>\n",
       "      <td>0.2</td>\n",
       "      <td>0.066667</td>\n",
       "      <td>0.061503</td>\n",
       "      <td>0.003108</td>\n",
       "      <td>0.0</td>\n",
       "      <td>0.0</td>\n",
       "      <td>0.0</td>\n",
       "      <td>0.5</td>\n",
       "      <td>0.4</td>\n",
       "      <td>0.089602</td>\n",
       "      <td>0.000000</td>\n",
       "      <td>0.478261</td>\n",
       "      <td>0.000000</td>\n",
       "      <td>0.893939</td>\n",
       "      <td>0.161934</td>\n",
       "      <td>0.005742</td>\n",
       "      <td>0.018880</td>\n",
       "    </tr>\n",
       "    <tr>\n",
       "      <th>1</th>\n",
       "      <td>0.2</td>\n",
       "      <td>0.233333</td>\n",
       "      <td>0.167046</td>\n",
       "      <td>0.004072</td>\n",
       "      <td>0.4</td>\n",
       "      <td>0.0</td>\n",
       "      <td>0.0</td>\n",
       "      <td>0.5</td>\n",
       "      <td>0.4</td>\n",
       "      <td>0.199115</td>\n",
       "      <td>0.082988</td>\n",
       "      <td>0.443478</td>\n",
       "      <td>0.988089</td>\n",
       "      <td>0.626263</td>\n",
       "      <td>0.222165</td>\n",
       "      <td>0.008027</td>\n",
       "      <td>0.060352</td>\n",
       "    </tr>\n",
       "    <tr>\n",
       "      <th>2</th>\n",
       "      <td>0.1</td>\n",
       "      <td>0.066667</td>\n",
       "      <td>0.030372</td>\n",
       "      <td>0.005743</td>\n",
       "      <td>0.0</td>\n",
       "      <td>0.0</td>\n",
       "      <td>0.0</td>\n",
       "      <td>0.5</td>\n",
       "      <td>0.3</td>\n",
       "      <td>0.044248</td>\n",
       "      <td>0.000000</td>\n",
       "      <td>0.286957</td>\n",
       "      <td>0.000000</td>\n",
       "      <td>0.136364</td>\n",
       "      <td>0.399415</td>\n",
       "      <td>0.008513</td>\n",
       "      <td>0.013382</td>\n",
       "    </tr>\n",
       "    <tr>\n",
       "      <th>3</th>\n",
       "      <td>0.3</td>\n",
       "      <td>0.333333</td>\n",
       "      <td>0.120729</td>\n",
       "      <td>0.002714</td>\n",
       "      <td>0.0</td>\n",
       "      <td>0.0</td>\n",
       "      <td>0.0</td>\n",
       "      <td>1.0</td>\n",
       "      <td>0.4</td>\n",
       "      <td>0.075221</td>\n",
       "      <td>0.188797</td>\n",
       "      <td>0.565217</td>\n",
       "      <td>0.000000</td>\n",
       "      <td>0.681818</td>\n",
       "      <td>0.165376</td>\n",
       "      <td>0.004996</td>\n",
       "      <td>0.069011</td>\n",
       "    </tr>\n",
       "    <tr>\n",
       "      <th>4</th>\n",
       "      <td>0.2</td>\n",
       "      <td>0.200000</td>\n",
       "      <td>0.099468</td>\n",
       "      <td>0.004579</td>\n",
       "      <td>0.0</td>\n",
       "      <td>0.0</td>\n",
       "      <td>0.0</td>\n",
       "      <td>0.5</td>\n",
       "      <td>0.5</td>\n",
       "      <td>0.144912</td>\n",
       "      <td>0.000000</td>\n",
       "      <td>0.756522</td>\n",
       "      <td>0.000000</td>\n",
       "      <td>0.368687</td>\n",
       "      <td>0.241094</td>\n",
       "      <td>0.007871</td>\n",
       "      <td>0.056678</td>\n",
       "    </tr>\n",
       "    <tr>\n",
       "      <th>...</th>\n",
       "      <td>...</td>\n",
       "      <td>...</td>\n",
       "      <td>...</td>\n",
       "      <td>...</td>\n",
       "      <td>...</td>\n",
       "      <td>...</td>\n",
       "      <td>...</td>\n",
       "      <td>...</td>\n",
       "      <td>...</td>\n",
       "      <td>...</td>\n",
       "      <td>...</td>\n",
       "      <td>...</td>\n",
       "      <td>...</td>\n",
       "      <td>...</td>\n",
       "      <td>...</td>\n",
       "      <td>...</td>\n",
       "      <td>...</td>\n",
       "    </tr>\n",
       "    <tr>\n",
       "      <th>21591</th>\n",
       "      <td>0.2</td>\n",
       "      <td>0.266667</td>\n",
       "      <td>0.088079</td>\n",
       "      <td>0.000370</td>\n",
       "      <td>0.8</td>\n",
       "      <td>0.0</td>\n",
       "      <td>0.0</td>\n",
       "      <td>0.5</td>\n",
       "      <td>0.5</td>\n",
       "      <td>0.128319</td>\n",
       "      <td>0.000000</td>\n",
       "      <td>0.947826</td>\n",
       "      <td>0.000000</td>\n",
       "      <td>0.515152</td>\n",
       "      <td>0.194631</td>\n",
       "      <td>0.000986</td>\n",
       "      <td>0.036998</td>\n",
       "    </tr>\n",
       "    <tr>\n",
       "      <th>21592</th>\n",
       "      <td>0.3</td>\n",
       "      <td>0.266667</td>\n",
       "      <td>0.147304</td>\n",
       "      <td>0.003206</td>\n",
       "      <td>0.4</td>\n",
       "      <td>0.0</td>\n",
       "      <td>0.0</td>\n",
       "      <td>0.5</td>\n",
       "      <td>0.5</td>\n",
       "      <td>0.214602</td>\n",
       "      <td>0.000000</td>\n",
       "      <td>0.991304</td>\n",
       "      <td>0.000000</td>\n",
       "      <td>0.732323</td>\n",
       "      <td>0.246257</td>\n",
       "      <td>0.007523</td>\n",
       "      <td>0.042246</td>\n",
       "    </tr>\n",
       "    <tr>\n",
       "      <th>21593</th>\n",
       "      <td>0.1</td>\n",
       "      <td>0.033333</td>\n",
       "      <td>0.049355</td>\n",
       "      <td>0.000503</td>\n",
       "      <td>0.4</td>\n",
       "      <td>0.0</td>\n",
       "      <td>0.0</td>\n",
       "      <td>0.5</td>\n",
       "      <td>0.4</td>\n",
       "      <td>0.071903</td>\n",
       "      <td>0.000000</td>\n",
       "      <td>0.947826</td>\n",
       "      <td>0.000000</td>\n",
       "      <td>0.722222</td>\n",
       "      <td>0.106866</td>\n",
       "      <td>0.001558</td>\n",
       "      <td>0.042522</td>\n",
       "    </tr>\n",
       "    <tr>\n",
       "      <th>21594</th>\n",
       "      <td>0.2</td>\n",
       "      <td>0.266667</td>\n",
       "      <td>0.093394</td>\n",
       "      <td>0.001132</td>\n",
       "      <td>0.4</td>\n",
       "      <td>0.0</td>\n",
       "      <td>0.0</td>\n",
       "      <td>0.5</td>\n",
       "      <td>0.5</td>\n",
       "      <td>0.136062</td>\n",
       "      <td>0.000000</td>\n",
       "      <td>0.904348</td>\n",
       "      <td>0.000000</td>\n",
       "      <td>0.131313</td>\n",
       "      <td>0.173980</td>\n",
       "      <td>0.000731</td>\n",
       "      <td>0.042246</td>\n",
       "    </tr>\n",
       "    <tr>\n",
       "      <th>21595</th>\n",
       "      <td>0.1</td>\n",
       "      <td>0.033333</td>\n",
       "      <td>0.049355</td>\n",
       "      <td>0.000337</td>\n",
       "      <td>0.4</td>\n",
       "      <td>0.0</td>\n",
       "      <td>0.0</td>\n",
       "      <td>0.5</td>\n",
       "      <td>0.4</td>\n",
       "      <td>0.071903</td>\n",
       "      <td>0.000000</td>\n",
       "      <td>0.939130</td>\n",
       "      <td>0.000000</td>\n",
       "      <td>0.722222</td>\n",
       "      <td>0.106866</td>\n",
       "      <td>0.000811</td>\n",
       "      <td>0.032406</td>\n",
       "    </tr>\n",
       "  </tbody>\n",
       "</table>\n",
       "<p>21596 rows × 17 columns</p>\n",
       "</div>"
      ],
      "text/plain": [
       "       bedrooms  bathrooms  sqft_living  sqft_lot  floors  waterfront  view  \\\n",
       "0           0.2   0.066667     0.061503  0.003108     0.0         0.0   0.0   \n",
       "1           0.2   0.233333     0.167046  0.004072     0.4         0.0   0.0   \n",
       "2           0.1   0.066667     0.030372  0.005743     0.0         0.0   0.0   \n",
       "3           0.3   0.333333     0.120729  0.002714     0.0         0.0   0.0   \n",
       "4           0.2   0.200000     0.099468  0.004579     0.0         0.0   0.0   \n",
       "...         ...        ...          ...       ...     ...         ...   ...   \n",
       "21591       0.2   0.266667     0.088079  0.000370     0.8         0.0   0.0   \n",
       "21592       0.3   0.266667     0.147304  0.003206     0.4         0.0   0.0   \n",
       "21593       0.1   0.033333     0.049355  0.000503     0.4         0.0   0.0   \n",
       "21594       0.2   0.266667     0.093394  0.001132     0.4         0.0   0.0   \n",
       "21595       0.1   0.033333     0.049355  0.000337     0.4         0.0   0.0   \n",
       "\n",
       "       condition  grade  sqft_above  sqft_basement  yr_built  yr_renovated  \\\n",
       "0            0.5    0.4    0.089602       0.000000  0.478261      0.000000   \n",
       "1            0.5    0.4    0.199115       0.082988  0.443478      0.988089   \n",
       "2            0.5    0.3    0.044248       0.000000  0.286957      0.000000   \n",
       "3            1.0    0.4    0.075221       0.188797  0.565217      0.000000   \n",
       "4            0.5    0.5    0.144912       0.000000  0.756522      0.000000   \n",
       "...          ...    ...         ...            ...       ...           ...   \n",
       "21591        0.5    0.5    0.128319       0.000000  0.947826      0.000000   \n",
       "21592        0.5    0.5    0.214602       0.000000  0.991304      0.000000   \n",
       "21593        0.5    0.4    0.071903       0.000000  0.947826      0.000000   \n",
       "21594        0.5    0.5    0.136062       0.000000  0.904348      0.000000   \n",
       "21595        0.5    0.4    0.071903       0.000000  0.939130      0.000000   \n",
       "\n",
       "        zipcode  sqft_living15  sqft_lot15     price  \n",
       "0      0.893939       0.161934    0.005742  0.018880  \n",
       "1      0.626263       0.222165    0.008027  0.060352  \n",
       "2      0.136364       0.399415    0.008513  0.013382  \n",
       "3      0.681818       0.165376    0.004996  0.069011  \n",
       "4      0.368687       0.241094    0.007871  0.056678  \n",
       "...         ...            ...         ...       ...  \n",
       "21591  0.515152       0.194631    0.000986  0.036998  \n",
       "21592  0.732323       0.246257    0.007523  0.042246  \n",
       "21593  0.722222       0.106866    0.001558  0.042522  \n",
       "21594  0.131313       0.173980    0.000731  0.042246  \n",
       "21595  0.722222       0.106866    0.000811  0.032406  \n",
       "\n",
       "[21596 rows x 17 columns]"
      ]
     },
     "execution_count": 36,
     "metadata": {},
     "output_type": "execute_result"
    }
   ],
   "source": [
    "df"
   ]
  },
  {
   "cell_type": "markdown",
   "metadata": {},
   "source": [
    "### 4. Basic Machine Learning Model"
   ]
  },
  {
   "cell_type": "code",
   "execution_count": 37,
   "metadata": {},
   "outputs": [],
   "source": [
    "# since we dropped the date column all columns are numeric"
   ]
  },
  {
   "cell_type": "code",
   "execution_count": 38,
   "metadata": {},
   "outputs": [],
   "source": [
    "# for our basic model we will use Linear Regression"
   ]
  },
  {
   "cell_type": "markdown",
   "metadata": {},
   "source": [
    "### 4.1 Set target label and features"
   ]
  },
  {
   "cell_type": "code",
   "execution_count": 39,
   "metadata": {},
   "outputs": [],
   "source": [
    "# Set base and LinReg dataframes\n",
    "base_df = df.copy()\n",
    "df_LinReg = df.copy()"
   ]
  },
  {
   "cell_type": "code",
   "execution_count": 40,
   "metadata": {},
   "outputs": [],
   "source": [
    "# set y\n",
    "y_lr = df_LinReg['price']\n",
    "\n",
    "# set X\n",
    "X_lr = df_LinReg.drop('price', axis = 1)"
   ]
  },
  {
   "cell_type": "markdown",
   "metadata": {},
   "source": [
    "### 4.2 Import model"
   ]
  },
  {
   "cell_type": "code",
   "execution_count": 41,
   "metadata": {},
   "outputs": [],
   "source": [
    "from sklearn.linear_model import LinearRegression"
   ]
  },
  {
   "cell_type": "markdown",
   "metadata": {},
   "source": [
    "### 4.3 Split into test and train data"
   ]
  },
  {
   "cell_type": "code",
   "execution_count": 42,
   "metadata": {},
   "outputs": [],
   "source": [
    "from sklearn.model_selection import train_test_split\n",
    "# Our train size is going to be 70% and our test size 30%\n",
    "X_lr_train, X_lr_test, y_lr_train, y_lr_test = train_test_split(X_lr, y_lr, test_size=0.3, random_state=40) "
   ]
  },
  {
   "cell_type": "markdown",
   "metadata": {},
   "source": [
    "### 4.4 Run the model"
   ]
  },
  {
   "cell_type": "code",
   "execution_count": 44,
   "metadata": {},
   "outputs": [],
   "source": [
    "# define and fit model\n",
    "linreg = LinearRegression().fit(X_lr, y_lr)\n",
    "plr=linreg.fit(X_lr_train,y_lr_train)    "
   ]
  },
  {
   "cell_type": "markdown",
   "metadata": {},
   "source": [
    "### 4.5 Evaluate model"
   ]
  },
  {
   "cell_type": "code",
   "execution_count": 45,
   "metadata": {},
   "outputs": [],
   "source": [
    "# our predictions of our test data y through our test data X, based on the relation between y train and X train \n",
    "y_lr_pred = plr.predict(X_lr_test)"
   ]
  },
  {
   "cell_type": "code",
   "execution_count": 46,
   "metadata": {},
   "outputs": [],
   "source": [
    "# import tools\n",
    "from sklearn.metrics import r2_score as r2\n",
    "from sklearn.metrics import mean_squared_error as mse\n",
    "from sklearn.metrics import mean_absolute_error as mae"
   ]
  },
  {
   "cell_type": "code",
   "execution_count": 47,
   "metadata": {},
   "outputs": [
    {
     "data": {
      "text/plain": [
       "0.6645844358454454"
      ]
     },
     "execution_count": 47,
     "metadata": {},
     "output_type": "execute_result"
    }
   ],
   "source": [
    "# R square \n",
    "r2(y_lr_test,y_lr_pred)"
   ]
  },
  {
   "cell_type": "code",
   "execution_count": 48,
   "metadata": {},
   "outputs": [
    {
     "data": {
      "text/plain": [
       "0.0007845718696635119"
      ]
     },
     "execution_count": 48,
     "metadata": {},
     "output_type": "execute_result"
    }
   ],
   "source": [
    "# Mean Square Error(MSE)\n",
    "mse(y_lr_test,y_lr_pred)"
   ]
  },
  {
   "cell_type": "code",
   "execution_count": 49,
   "metadata": {},
   "outputs": [
    {
     "data": {
      "text/plain": [
       "0.028010210096739936"
      ]
     },
     "execution_count": 49,
     "metadata": {},
     "output_type": "execute_result"
    }
   ],
   "source": [
    "# Root Mean Square Error(MSE)\n",
    "rmse = math.sqrt(mse(y_lr_test,y_lr_pred))\n",
    "rmse"
   ]
  },
  {
   "cell_type": "code",
   "execution_count": 50,
   "metadata": {},
   "outputs": [
    {
     "data": {
      "text/plain": [
       "0.01840034159636096"
      ]
     },
     "execution_count": 50,
     "metadata": {},
     "output_type": "execute_result"
    }
   ],
   "source": [
    "# Mean Absolute Error(MAE)\n",
    "mae(y_lr_test, y_lr_pred)"
   ]
  },
  {
   "cell_type": "markdown",
   "metadata": {},
   "source": [
    "### 5. Improving Linear Regression Model"
   ]
  },
  {
   "cell_type": "code",
   "execution_count": 51,
   "metadata": {},
   "outputs": [],
   "source": [
    "# perhaps taking a look at the columns with high correlation will lead to improved results"
   ]
  },
  {
   "cell_type": "markdown",
   "metadata": {},
   "source": [
    "### 5.1 Attempt: Correlations"
   ]
  },
  {
   "cell_type": "code",
   "execution_count": 52,
   "metadata": {},
   "outputs": [
    {
     "data": {
      "image/png": "[encoded data removed]",
      "text/plain": [
       "<Figure size 1080x720 with 2 Axes>"
      ]
     },
     "metadata": {},
     "output_type": "display_data"
    }
   ],
   "source": [
    "# correlation matrix(heatmap)\n",
    "corr = df.corr()\n",
    "mask = np.zeros_like(corr)\n",
    "mask[np.triu_indices_from(mask)] = True\n",
    "sns.heatmap(df.corr(), annot=True, mask = mask);"
   ]
  },
  {
   "cell_type": "code",
   "execution_count": 53,
   "metadata": {},
   "outputs": [],
   "source": [
    "# overall columns regarding the size of the property show high correlation "
   ]
  },
  {
   "cell_type": "code",
   "execution_count": 54,
   "metadata": {
    "collapsed": true
   },
   "outputs": [
    {
     "data": {
      "text/plain": [
       "Index(['bedrooms', 'bathrooms', 'sqft_living', 'sqft_lot', 'floors',\n",
       "       'waterfront', 'view', 'condition', 'grade', 'sqft_above',\n",
       "       'sqft_basement', 'yr_built', 'yr_renovated', 'zipcode', 'sqft_living15',\n",
       "       'sqft_lot15', 'price'],\n",
       "      dtype='object')"
      ]
     },
     "execution_count": 54,
     "metadata": {},
     "output_type": "execute_result"
    }
   ],
   "source": [
    "df.columns"
   ]
  },
  {
   "cell_type": "code",
   "execution_count": 55,
   "metadata": {
    "collapsed": true
   },
   "outputs": [
    {
     "data": {
      "text/html": [
       "<div>\n",
       "<style scoped>\n",
       "    .dataframe tbody tr th:only-of-type {\n",
       "        vertical-align: middle;\n",
       "    }\n",
       "\n",
       "    .dataframe tbody tr th {\n",
       "        vertical-align: top;\n",
       "    }\n",
       "\n",
       "    .dataframe thead th {\n",
       "        text-align: right;\n",
       "    }\n",
       "</style>\n",
       "<table border=\"1\" class=\"dataframe\">\n",
       "  <thead>\n",
       "    <tr style=\"text-align: right;\">\n",
       "      <th></th>\n",
       "      <th>bedrooms</th>\n",
       "      <th>bathrooms</th>\n",
       "      <th>sqft_living</th>\n",
       "      <th>sqft_lot</th>\n",
       "      <th>sqft_above</th>\n",
       "      <th>floors</th>\n",
       "      <th>sqft_basement</th>\n",
       "      <th>sqft_living15</th>\n",
       "      <th>sqft_lot15</th>\n",
       "    </tr>\n",
       "  </thead>\n",
       "  <tbody>\n",
       "    <tr>\n",
       "      <th>0</th>\n",
       "      <td>0.2</td>\n",
       "      <td>0.066667</td>\n",
       "      <td>0.061503</td>\n",
       "      <td>0.003108</td>\n",
       "      <td>0.089602</td>\n",
       "      <td>0.0</td>\n",
       "      <td>0.000000</td>\n",
       "      <td>0.161934</td>\n",
       "      <td>0.005742</td>\n",
       "    </tr>\n",
       "    <tr>\n",
       "      <th>1</th>\n",
       "      <td>0.2</td>\n",
       "      <td>0.233333</td>\n",
       "      <td>0.167046</td>\n",
       "      <td>0.004072</td>\n",
       "      <td>0.199115</td>\n",
       "      <td>0.4</td>\n",
       "      <td>0.082988</td>\n",
       "      <td>0.222165</td>\n",
       "      <td>0.008027</td>\n",
       "    </tr>\n",
       "    <tr>\n",
       "      <th>2</th>\n",
       "      <td>0.1</td>\n",
       "      <td>0.066667</td>\n",
       "      <td>0.030372</td>\n",
       "      <td>0.005743</td>\n",
       "      <td>0.044248</td>\n",
       "      <td>0.0</td>\n",
       "      <td>0.000000</td>\n",
       "      <td>0.399415</td>\n",
       "      <td>0.008513</td>\n",
       "    </tr>\n",
       "    <tr>\n",
       "      <th>3</th>\n",
       "      <td>0.3</td>\n",
       "      <td>0.333333</td>\n",
       "      <td>0.120729</td>\n",
       "      <td>0.002714</td>\n",
       "      <td>0.075221</td>\n",
       "      <td>0.0</td>\n",
       "      <td>0.188797</td>\n",
       "      <td>0.165376</td>\n",
       "      <td>0.004996</td>\n",
       "    </tr>\n",
       "    <tr>\n",
       "      <th>4</th>\n",
       "      <td>0.2</td>\n",
       "      <td>0.200000</td>\n",
       "      <td>0.099468</td>\n",
       "      <td>0.004579</td>\n",
       "      <td>0.144912</td>\n",
       "      <td>0.0</td>\n",
       "      <td>0.000000</td>\n",
       "      <td>0.241094</td>\n",
       "      <td>0.007871</td>\n",
       "    </tr>\n",
       "    <tr>\n",
       "      <th>...</th>\n",
       "      <td>...</td>\n",
       "      <td>...</td>\n",
       "      <td>...</td>\n",
       "      <td>...</td>\n",
       "      <td>...</td>\n",
       "      <td>...</td>\n",
       "      <td>...</td>\n",
       "      <td>...</td>\n",
       "      <td>...</td>\n",
       "    </tr>\n",
       "    <tr>\n",
       "      <th>21591</th>\n",
       "      <td>0.2</td>\n",
       "      <td>0.266667</td>\n",
       "      <td>0.088079</td>\n",
       "      <td>0.000370</td>\n",
       "      <td>0.128319</td>\n",
       "      <td>0.8</td>\n",
       "      <td>0.000000</td>\n",
       "      <td>0.194631</td>\n",
       "      <td>0.000986</td>\n",
       "    </tr>\n",
       "    <tr>\n",
       "      <th>21592</th>\n",
       "      <td>0.3</td>\n",
       "      <td>0.266667</td>\n",
       "      <td>0.147304</td>\n",
       "      <td>0.003206</td>\n",
       "      <td>0.214602</td>\n",
       "      <td>0.4</td>\n",
       "      <td>0.000000</td>\n",
       "      <td>0.246257</td>\n",
       "      <td>0.007523</td>\n",
       "    </tr>\n",
       "    <tr>\n",
       "      <th>21593</th>\n",
       "      <td>0.1</td>\n",
       "      <td>0.033333</td>\n",
       "      <td>0.049355</td>\n",
       "      <td>0.000503</td>\n",
       "      <td>0.071903</td>\n",
       "      <td>0.4</td>\n",
       "      <td>0.000000</td>\n",
       "      <td>0.106866</td>\n",
       "      <td>0.001558</td>\n",
       "    </tr>\n",
       "    <tr>\n",
       "      <th>21594</th>\n",
       "      <td>0.2</td>\n",
       "      <td>0.266667</td>\n",
       "      <td>0.093394</td>\n",
       "      <td>0.001132</td>\n",
       "      <td>0.136062</td>\n",
       "      <td>0.4</td>\n",
       "      <td>0.000000</td>\n",
       "      <td>0.173980</td>\n",
       "      <td>0.000731</td>\n",
       "    </tr>\n",
       "    <tr>\n",
       "      <th>21595</th>\n",
       "      <td>0.1</td>\n",
       "      <td>0.033333</td>\n",
       "      <td>0.049355</td>\n",
       "      <td>0.000337</td>\n",
       "      <td>0.071903</td>\n",
       "      <td>0.4</td>\n",
       "      <td>0.000000</td>\n",
       "      <td>0.106866</td>\n",
       "      <td>0.000811</td>\n",
       "    </tr>\n",
       "  </tbody>\n",
       "</table>\n",
       "<p>21596 rows × 9 columns</p>\n",
       "</div>"
      ],
      "text/plain": [
       "       bedrooms  bathrooms  sqft_living  sqft_lot  sqft_above  floors  \\\n",
       "0           0.2   0.066667     0.061503  0.003108    0.089602     0.0   \n",
       "1           0.2   0.233333     0.167046  0.004072    0.199115     0.4   \n",
       "2           0.1   0.066667     0.030372  0.005743    0.044248     0.0   \n",
       "3           0.3   0.333333     0.120729  0.002714    0.075221     0.0   \n",
       "4           0.2   0.200000     0.099468  0.004579    0.144912     0.0   \n",
       "...         ...        ...          ...       ...         ...     ...   \n",
       "21591       0.2   0.266667     0.088079  0.000370    0.128319     0.8   \n",
       "21592       0.3   0.266667     0.147304  0.003206    0.214602     0.4   \n",
       "21593       0.1   0.033333     0.049355  0.000503    0.071903     0.4   \n",
       "21594       0.2   0.266667     0.093394  0.001132    0.136062     0.4   \n",
       "21595       0.1   0.033333     0.049355  0.000337    0.071903     0.4   \n",
       "\n",
       "       sqft_basement  sqft_living15  sqft_lot15  \n",
       "0           0.000000       0.161934    0.005742  \n",
       "1           0.082988       0.222165    0.008027  \n",
       "2           0.000000       0.399415    0.008513  \n",
       "3           0.188797       0.165376    0.004996  \n",
       "4           0.000000       0.241094    0.007871  \n",
       "...              ...            ...         ...  \n",
       "21591       0.000000       0.194631    0.000986  \n",
       "21592       0.000000       0.246257    0.007523  \n",
       "21593       0.000000       0.106866    0.001558  \n",
       "21594       0.000000       0.173980    0.000731  \n",
       "21595       0.000000       0.106866    0.000811  \n",
       "\n",
       "[21596 rows x 9 columns]"
      ]
     },
     "execution_count": 55,
     "metadata": {},
     "output_type": "execute_result"
    }
   ],
   "source": [
    "df[['bedrooms','bathrooms','sqft_living', 'sqft_lot','sqft_above', 'floors','sqft_basement','sqft_living15', 'sqft_lot15']]"
   ]
  },
  {
   "cell_type": "code",
   "execution_count": 56,
   "metadata": {},
   "outputs": [],
   "source": [
    "# as we can see in the DataFrame we view sqft_living as sqft_above combined wit sqft_basement \n",
    "# (unorthodox as basement usually isn't included in sqft living)\n",
    "# dropping them would mean we have no more way to check if a property has a basement or not\n",
    "# additionally online research shows basement square footage to be worth less than above square footage\n",
    "\n",
    "df = df.drop(['sqft_above','sqft_basement'], axis = 1)"
   ]
  },
  {
   "cell_type": "code",
   "execution_count": 57,
   "metadata": {
    "collapsed": true
   },
   "outputs": [
    {
     "data": {
      "text/plain": [
       "0.196352    197\n",
       "0.179143    195\n",
       "0.199793    192\n",
       "0.189468    180\n",
       "0.182585    169\n",
       "           ... \n",
       "0.574256      1\n",
       "0.783170      1\n",
       "0.400792      1\n",
       "0.747031      1\n",
       "0.435037      1\n",
       "Name: sqft_living15, Length: 777, dtype: int64"
      ]
     },
     "execution_count": 57,
     "metadata": {},
     "output_type": "execute_result"
    }
   ],
   "source": [
    "df['sqft_living15'].value_counts()"
   ]
  },
  {
   "cell_type": "code",
   "execution_count": 58,
   "metadata": {
    "collapsed": true
   },
   "outputs": [
    {
     "data": {
      "text/plain": [
       "0.004996    427\n",
       "0.003847    356\n",
       "0.006144    288\n",
       "0.007523    210\n",
       "0.004766    145\n",
       "           ... \n",
       "0.010934      1\n",
       "0.011397      1\n",
       "0.012436      1\n",
       "0.000917      1\n",
       "0.001558      1\n",
       "Name: sqft_lot15, Length: 8682, dtype: int64"
      ]
     },
     "execution_count": 58,
     "metadata": {},
     "output_type": "execute_result"
    }
   ],
   "source": [
    "df['sqft_lot15'].value_counts()"
   ]
  },
  {
   "cell_type": "code",
   "execution_count": 59,
   "metadata": {},
   "outputs": [],
   "source": [
    "# We can now go one step further we can exclude sqft_living and sqft_lot as we more recent data.\n",
    "# If a house has not been renovated values would've stayed the same\n",
    "\n",
    "df = df.drop(['sqft_living','sqft_lot'], axis = 1)"
   ]
  },
  {
   "cell_type": "code",
   "execution_count": 60,
   "metadata": {
    "collapsed": true
   },
   "outputs": [
    {
     "data": {
      "text/html": [
       "<div>\n",
       "<style scoped>\n",
       "    .dataframe tbody tr th:only-of-type {\n",
       "        vertical-align: middle;\n",
       "    }\n",
       "\n",
       "    .dataframe tbody tr th {\n",
       "        vertical-align: top;\n",
       "    }\n",
       "\n",
       "    .dataframe thead th {\n",
       "        text-align: right;\n",
       "    }\n",
       "</style>\n",
       "<table border=\"1\" class=\"dataframe\">\n",
       "  <thead>\n",
       "    <tr style=\"text-align: right;\">\n",
       "      <th></th>\n",
       "      <th>bedrooms</th>\n",
       "      <th>bathrooms</th>\n",
       "      <th>floors</th>\n",
       "      <th>waterfront</th>\n",
       "      <th>view</th>\n",
       "      <th>condition</th>\n",
       "      <th>grade</th>\n",
       "      <th>yr_built</th>\n",
       "      <th>yr_renovated</th>\n",
       "      <th>zipcode</th>\n",
       "      <th>sqft_living15</th>\n",
       "      <th>sqft_lot15</th>\n",
       "      <th>price</th>\n",
       "    </tr>\n",
       "  </thead>\n",
       "  <tbody>\n",
       "    <tr>\n",
       "      <th>0</th>\n",
       "      <td>0.2</td>\n",
       "      <td>0.066667</td>\n",
       "      <td>0.0</td>\n",
       "      <td>0.0</td>\n",
       "      <td>0.0</td>\n",
       "      <td>0.5</td>\n",
       "      <td>0.4</td>\n",
       "      <td>0.478261</td>\n",
       "      <td>0.000000</td>\n",
       "      <td>0.893939</td>\n",
       "      <td>0.161934</td>\n",
       "      <td>0.005742</td>\n",
       "      <td>0.018880</td>\n",
       "    </tr>\n",
       "    <tr>\n",
       "      <th>1</th>\n",
       "      <td>0.2</td>\n",
       "      <td>0.233333</td>\n",
       "      <td>0.4</td>\n",
       "      <td>0.0</td>\n",
       "      <td>0.0</td>\n",
       "      <td>0.5</td>\n",
       "      <td>0.4</td>\n",
       "      <td>0.443478</td>\n",
       "      <td>0.988089</td>\n",
       "      <td>0.626263</td>\n",
       "      <td>0.222165</td>\n",
       "      <td>0.008027</td>\n",
       "      <td>0.060352</td>\n",
       "    </tr>\n",
       "    <tr>\n",
       "      <th>2</th>\n",
       "      <td>0.1</td>\n",
       "      <td>0.066667</td>\n",
       "      <td>0.0</td>\n",
       "      <td>0.0</td>\n",
       "      <td>0.0</td>\n",
       "      <td>0.5</td>\n",
       "      <td>0.3</td>\n",
       "      <td>0.286957</td>\n",
       "      <td>0.000000</td>\n",
       "      <td>0.136364</td>\n",
       "      <td>0.399415</td>\n",
       "      <td>0.008513</td>\n",
       "      <td>0.013382</td>\n",
       "    </tr>\n",
       "    <tr>\n",
       "      <th>3</th>\n",
       "      <td>0.3</td>\n",
       "      <td>0.333333</td>\n",
       "      <td>0.0</td>\n",
       "      <td>0.0</td>\n",
       "      <td>0.0</td>\n",
       "      <td>1.0</td>\n",
       "      <td>0.4</td>\n",
       "      <td>0.565217</td>\n",
       "      <td>0.000000</td>\n",
       "      <td>0.681818</td>\n",
       "      <td>0.165376</td>\n",
       "      <td>0.004996</td>\n",
       "      <td>0.069011</td>\n",
       "    </tr>\n",
       "    <tr>\n",
       "      <th>4</th>\n",
       "      <td>0.2</td>\n",
       "      <td>0.200000</td>\n",
       "      <td>0.0</td>\n",
       "      <td>0.0</td>\n",
       "      <td>0.0</td>\n",
       "      <td>0.5</td>\n",
       "      <td>0.5</td>\n",
       "      <td>0.756522</td>\n",
       "      <td>0.000000</td>\n",
       "      <td>0.368687</td>\n",
       "      <td>0.241094</td>\n",
       "      <td>0.007871</td>\n",
       "      <td>0.056678</td>\n",
       "    </tr>\n",
       "    <tr>\n",
       "      <th>...</th>\n",
       "      <td>...</td>\n",
       "      <td>...</td>\n",
       "      <td>...</td>\n",
       "      <td>...</td>\n",
       "      <td>...</td>\n",
       "      <td>...</td>\n",
       "      <td>...</td>\n",
       "      <td>...</td>\n",
       "      <td>...</td>\n",
       "      <td>...</td>\n",
       "      <td>...</td>\n",
       "      <td>...</td>\n",
       "      <td>...</td>\n",
       "    </tr>\n",
       "    <tr>\n",
       "      <th>21591</th>\n",
       "      <td>0.2</td>\n",
       "      <td>0.266667</td>\n",
       "      <td>0.8</td>\n",
       "      <td>0.0</td>\n",
       "      <td>0.0</td>\n",
       "      <td>0.5</td>\n",
       "      <td>0.5</td>\n",
       "      <td>0.947826</td>\n",
       "      <td>0.000000</td>\n",
       "      <td>0.515152</td>\n",
       "      <td>0.194631</td>\n",
       "      <td>0.000986</td>\n",
       "      <td>0.036998</td>\n",
       "    </tr>\n",
       "    <tr>\n",
       "      <th>21592</th>\n",
       "      <td>0.3</td>\n",
       "      <td>0.266667</td>\n",
       "      <td>0.4</td>\n",
       "      <td>0.0</td>\n",
       "      <td>0.0</td>\n",
       "      <td>0.5</td>\n",
       "      <td>0.5</td>\n",
       "      <td>0.991304</td>\n",
       "      <td>0.000000</td>\n",
       "      <td>0.732323</td>\n",
       "      <td>0.246257</td>\n",
       "      <td>0.007523</td>\n",
       "      <td>0.042246</td>\n",
       "    </tr>\n",
       "    <tr>\n",
       "      <th>21593</th>\n",
       "      <td>0.1</td>\n",
       "      <td>0.033333</td>\n",
       "      <td>0.4</td>\n",
       "      <td>0.0</td>\n",
       "      <td>0.0</td>\n",
       "      <td>0.5</td>\n",
       "      <td>0.4</td>\n",
       "      <td>0.947826</td>\n",
       "      <td>0.000000</td>\n",
       "      <td>0.722222</td>\n",
       "      <td>0.106866</td>\n",
       "      <td>0.001558</td>\n",
       "      <td>0.042522</td>\n",
       "    </tr>\n",
       "    <tr>\n",
       "      <th>21594</th>\n",
       "      <td>0.2</td>\n",
       "      <td>0.266667</td>\n",
       "      <td>0.4</td>\n",
       "      <td>0.0</td>\n",
       "      <td>0.0</td>\n",
       "      <td>0.5</td>\n",
       "      <td>0.5</td>\n",
       "      <td>0.904348</td>\n",
       "      <td>0.000000</td>\n",
       "      <td>0.131313</td>\n",
       "      <td>0.173980</td>\n",
       "      <td>0.000731</td>\n",
       "      <td>0.042246</td>\n",
       "    </tr>\n",
       "    <tr>\n",
       "      <th>21595</th>\n",
       "      <td>0.1</td>\n",
       "      <td>0.033333</td>\n",
       "      <td>0.4</td>\n",
       "      <td>0.0</td>\n",
       "      <td>0.0</td>\n",
       "      <td>0.5</td>\n",
       "      <td>0.4</td>\n",
       "      <td>0.939130</td>\n",
       "      <td>0.000000</td>\n",
       "      <td>0.722222</td>\n",
       "      <td>0.106866</td>\n",
       "      <td>0.000811</td>\n",
       "      <td>0.032406</td>\n",
       "    </tr>\n",
       "  </tbody>\n",
       "</table>\n",
       "<p>21596 rows × 13 columns</p>\n",
       "</div>"
      ],
      "text/plain": [
       "       bedrooms  bathrooms  floors  waterfront  view  condition  grade  \\\n",
       "0           0.2   0.066667     0.0         0.0   0.0        0.5    0.4   \n",
       "1           0.2   0.233333     0.4         0.0   0.0        0.5    0.4   \n",
       "2           0.1   0.066667     0.0         0.0   0.0        0.5    0.3   \n",
       "3           0.3   0.333333     0.0         0.0   0.0        1.0    0.4   \n",
       "4           0.2   0.200000     0.0         0.0   0.0        0.5    0.5   \n",
       "...         ...        ...     ...         ...   ...        ...    ...   \n",
       "21591       0.2   0.266667     0.8         0.0   0.0        0.5    0.5   \n",
       "21592       0.3   0.266667     0.4         0.0   0.0        0.5    0.5   \n",
       "21593       0.1   0.033333     0.4         0.0   0.0        0.5    0.4   \n",
       "21594       0.2   0.266667     0.4         0.0   0.0        0.5    0.5   \n",
       "21595       0.1   0.033333     0.4         0.0   0.0        0.5    0.4   \n",
       "\n",
       "       yr_built  yr_renovated   zipcode  sqft_living15  sqft_lot15     price  \n",
       "0      0.478261      0.000000  0.893939       0.161934    0.005742  0.018880  \n",
       "1      0.443478      0.988089  0.626263       0.222165    0.008027  0.060352  \n",
       "2      0.286957      0.000000  0.136364       0.399415    0.008513  0.013382  \n",
       "3      0.565217      0.000000  0.681818       0.165376    0.004996  0.069011  \n",
       "4      0.756522      0.000000  0.368687       0.241094    0.007871  0.056678  \n",
       "...         ...           ...       ...            ...         ...       ...  \n",
       "21591  0.947826      0.000000  0.515152       0.194631    0.000986  0.036998  \n",
       "21592  0.991304      0.000000  0.732323       0.246257    0.007523  0.042246  \n",
       "21593  0.947826      0.000000  0.722222       0.106866    0.001558  0.042522  \n",
       "21594  0.904348      0.000000  0.131313       0.173980    0.000731  0.042246  \n",
       "21595  0.939130      0.000000  0.722222       0.106866    0.000811  0.032406  \n",
       "\n",
       "[21596 rows x 13 columns]"
      ]
     },
     "execution_count": 60,
     "metadata": {},
     "output_type": "execute_result"
    }
   ],
   "source": [
    "df"
   ]
  },
  {
   "cell_type": "markdown",
   "metadata": {},
   "source": [
    "### 5.1.2 Test Attempt-Correlations"
   ]
  },
  {
   "cell_type": "code",
   "execution_count": 61,
   "metadata": {},
   "outputs": [],
   "source": [
    "# repeat machine learning & evaluation process \n",
    "y_lr = df['price']\n",
    "X_lr = df.drop('price', axis = 1)\n",
    "\n",
    "X_lr_train, X_lr_test, y_lr_train, y_lr_test = train_test_split(X_lr, y_lr, test_size=0.3, random_state=40) # Test size = 30%\n",
    "\n",
    "linreg = LinearRegression().fit(X_lr_train, y_lr_train)\n",
    "plri=linreg.fit(X_lr_train,y_lr_train)    \n",
    "\n",
    "y_lr_pred = plri.predict(X_lr_test)"
   ]
  },
  {
   "cell_type": "code",
   "execution_count": 62,
   "metadata": {},
   "outputs": [
    {
     "data": {
      "text/plain": [
       "0.6337941125804456"
      ]
     },
     "execution_count": 62,
     "metadata": {},
     "output_type": "execute_result"
    }
   ],
   "source": [
    "# r squared\n",
    "r2(y_lr_test,y_lr_pred)"
   ]
  },
  {
   "cell_type": "code",
   "execution_count": 63,
   "metadata": {},
   "outputs": [
    {
     "data": {
      "text/plain": [
       "0.000856593636311268"
      ]
     },
     "execution_count": 63,
     "metadata": {},
     "output_type": "execute_result"
    }
   ],
   "source": [
    "# Mean Square Error(MSE)\n",
    "mse(y_lr_test,y_lr_pred)"
   ]
  },
  {
   "cell_type": "code",
   "execution_count": 64,
   "metadata": {},
   "outputs": [
    {
     "data": {
      "text/plain": [
       "0.029267620954072576"
      ]
     },
     "execution_count": 64,
     "metadata": {},
     "output_type": "execute_result"
    }
   ],
   "source": [
    "# Root Mean Square Error(MSE)\n",
    "rmse = math.sqrt(mse(y_lr_test,y_lr_pred))\n",
    "rmse"
   ]
  },
  {
   "cell_type": "code",
   "execution_count": 65,
   "metadata": {},
   "outputs": [
    {
     "data": {
      "text/plain": [
       "0.018834255661715503"
      ]
     },
     "execution_count": 65,
     "metadata": {},
     "output_type": "execute_result"
    }
   ],
   "source": [
    "# Mean Absolute Error(MAE)\n",
    "mae(y_lr_test, y_lr_pred)"
   ]
  },
  {
   "cell_type": "code",
   "execution_count": 66,
   "metadata": {},
   "outputs": [],
   "source": [
    "# -> model worse than before"
   ]
  },
  {
   "cell_type": "markdown",
   "metadata": {},
   "source": [
    "### 5.1.3 Test Attempt-Correlations "
   ]
  },
  {
   "cell_type": "code",
   "execution_count": 67,
   "metadata": {},
   "outputs": [],
   "source": [
    "# this time we are not going to drop sqft_living and sqft_lot"
   ]
  },
  {
   "cell_type": "code",
   "execution_count": 68,
   "metadata": {},
   "outputs": [],
   "source": [
    "df = base_df.copy()"
   ]
  },
  {
   "cell_type": "code",
   "execution_count": 69,
   "metadata": {
    "collapsed": true
   },
   "outputs": [
    {
     "data": {
      "text/html": [
       "<div>\n",
       "<style scoped>\n",
       "    .dataframe tbody tr th:only-of-type {\n",
       "        vertical-align: middle;\n",
       "    }\n",
       "\n",
       "    .dataframe tbody tr th {\n",
       "        vertical-align: top;\n",
       "    }\n",
       "\n",
       "    .dataframe thead th {\n",
       "        text-align: right;\n",
       "    }\n",
       "</style>\n",
       "<table border=\"1\" class=\"dataframe\">\n",
       "  <thead>\n",
       "    <tr style=\"text-align: right;\">\n",
       "      <th></th>\n",
       "      <th>bedrooms</th>\n",
       "      <th>bathrooms</th>\n",
       "      <th>sqft_living</th>\n",
       "      <th>sqft_lot</th>\n",
       "      <th>floors</th>\n",
       "      <th>waterfront</th>\n",
       "      <th>view</th>\n",
       "      <th>condition</th>\n",
       "      <th>grade</th>\n",
       "      <th>sqft_above</th>\n",
       "      <th>sqft_basement</th>\n",
       "      <th>yr_built</th>\n",
       "      <th>yr_renovated</th>\n",
       "      <th>zipcode</th>\n",
       "      <th>sqft_living15</th>\n",
       "      <th>sqft_lot15</th>\n",
       "      <th>price</th>\n",
       "    </tr>\n",
       "  </thead>\n",
       "  <tbody>\n",
       "    <tr>\n",
       "      <th>0</th>\n",
       "      <td>0.2</td>\n",
       "      <td>0.066667</td>\n",
       "      <td>0.061503</td>\n",
       "      <td>0.003108</td>\n",
       "      <td>0.0</td>\n",
       "      <td>0.0</td>\n",
       "      <td>0.0</td>\n",
       "      <td>0.5</td>\n",
       "      <td>0.4</td>\n",
       "      <td>0.089602</td>\n",
       "      <td>0.000000</td>\n",
       "      <td>0.478261</td>\n",
       "      <td>0.000000</td>\n",
       "      <td>0.893939</td>\n",
       "      <td>0.161934</td>\n",
       "      <td>0.005742</td>\n",
       "      <td>0.018880</td>\n",
       "    </tr>\n",
       "    <tr>\n",
       "      <th>1</th>\n",
       "      <td>0.2</td>\n",
       "      <td>0.233333</td>\n",
       "      <td>0.167046</td>\n",
       "      <td>0.004072</td>\n",
       "      <td>0.4</td>\n",
       "      <td>0.0</td>\n",
       "      <td>0.0</td>\n",
       "      <td>0.5</td>\n",
       "      <td>0.4</td>\n",
       "      <td>0.199115</td>\n",
       "      <td>0.082988</td>\n",
       "      <td>0.443478</td>\n",
       "      <td>0.988089</td>\n",
       "      <td>0.626263</td>\n",
       "      <td>0.222165</td>\n",
       "      <td>0.008027</td>\n",
       "      <td>0.060352</td>\n",
       "    </tr>\n",
       "    <tr>\n",
       "      <th>2</th>\n",
       "      <td>0.1</td>\n",
       "      <td>0.066667</td>\n",
       "      <td>0.030372</td>\n",
       "      <td>0.005743</td>\n",
       "      <td>0.0</td>\n",
       "      <td>0.0</td>\n",
       "      <td>0.0</td>\n",
       "      <td>0.5</td>\n",
       "      <td>0.3</td>\n",
       "      <td>0.044248</td>\n",
       "      <td>0.000000</td>\n",
       "      <td>0.286957</td>\n",
       "      <td>0.000000</td>\n",
       "      <td>0.136364</td>\n",
       "      <td>0.399415</td>\n",
       "      <td>0.008513</td>\n",
       "      <td>0.013382</td>\n",
       "    </tr>\n",
       "    <tr>\n",
       "      <th>3</th>\n",
       "      <td>0.3</td>\n",
       "      <td>0.333333</td>\n",
       "      <td>0.120729</td>\n",
       "      <td>0.002714</td>\n",
       "      <td>0.0</td>\n",
       "      <td>0.0</td>\n",
       "      <td>0.0</td>\n",
       "      <td>1.0</td>\n",
       "      <td>0.4</td>\n",
       "      <td>0.075221</td>\n",
       "      <td>0.188797</td>\n",
       "      <td>0.565217</td>\n",
       "      <td>0.000000</td>\n",
       "      <td>0.681818</td>\n",
       "      <td>0.165376</td>\n",
       "      <td>0.004996</td>\n",
       "      <td>0.069011</td>\n",
       "    </tr>\n",
       "    <tr>\n",
       "      <th>4</th>\n",
       "      <td>0.2</td>\n",
       "      <td>0.200000</td>\n",
       "      <td>0.099468</td>\n",
       "      <td>0.004579</td>\n",
       "      <td>0.0</td>\n",
       "      <td>0.0</td>\n",
       "      <td>0.0</td>\n",
       "      <td>0.5</td>\n",
       "      <td>0.5</td>\n",
       "      <td>0.144912</td>\n",
       "      <td>0.000000</td>\n",
       "      <td>0.756522</td>\n",
       "      <td>0.000000</td>\n",
       "      <td>0.368687</td>\n",
       "      <td>0.241094</td>\n",
       "      <td>0.007871</td>\n",
       "      <td>0.056678</td>\n",
       "    </tr>\n",
       "    <tr>\n",
       "      <th>...</th>\n",
       "      <td>...</td>\n",
       "      <td>...</td>\n",
       "      <td>...</td>\n",
       "      <td>...</td>\n",
       "      <td>...</td>\n",
       "      <td>...</td>\n",
       "      <td>...</td>\n",
       "      <td>...</td>\n",
       "      <td>...</td>\n",
       "      <td>...</td>\n",
       "      <td>...</td>\n",
       "      <td>...</td>\n",
       "      <td>...</td>\n",
       "      <td>...</td>\n",
       "      <td>...</td>\n",
       "      <td>...</td>\n",
       "      <td>...</td>\n",
       "    </tr>\n",
       "    <tr>\n",
       "      <th>21591</th>\n",
       "      <td>0.2</td>\n",
       "      <td>0.266667</td>\n",
       "      <td>0.088079</td>\n",
       "      <td>0.000370</td>\n",
       "      <td>0.8</td>\n",
       "      <td>0.0</td>\n",
       "      <td>0.0</td>\n",
       "      <td>0.5</td>\n",
       "      <td>0.5</td>\n",
       "      <td>0.128319</td>\n",
       "      <td>0.000000</td>\n",
       "      <td>0.947826</td>\n",
       "      <td>0.000000</td>\n",
       "      <td>0.515152</td>\n",
       "      <td>0.194631</td>\n",
       "      <td>0.000986</td>\n",
       "      <td>0.036998</td>\n",
       "    </tr>\n",
       "    <tr>\n",
       "      <th>21592</th>\n",
       "      <td>0.3</td>\n",
       "      <td>0.266667</td>\n",
       "      <td>0.147304</td>\n",
       "      <td>0.003206</td>\n",
       "      <td>0.4</td>\n",
       "      <td>0.0</td>\n",
       "      <td>0.0</td>\n",
       "      <td>0.5</td>\n",
       "      <td>0.5</td>\n",
       "      <td>0.214602</td>\n",
       "      <td>0.000000</td>\n",
       "      <td>0.991304</td>\n",
       "      <td>0.000000</td>\n",
       "      <td>0.732323</td>\n",
       "      <td>0.246257</td>\n",
       "      <td>0.007523</td>\n",
       "      <td>0.042246</td>\n",
       "    </tr>\n",
       "    <tr>\n",
       "      <th>21593</th>\n",
       "      <td>0.1</td>\n",
       "      <td>0.033333</td>\n",
       "      <td>0.049355</td>\n",
       "      <td>0.000503</td>\n",
       "      <td>0.4</td>\n",
       "      <td>0.0</td>\n",
       "      <td>0.0</td>\n",
       "      <td>0.5</td>\n",
       "      <td>0.4</td>\n",
       "      <td>0.071903</td>\n",
       "      <td>0.000000</td>\n",
       "      <td>0.947826</td>\n",
       "      <td>0.000000</td>\n",
       "      <td>0.722222</td>\n",
       "      <td>0.106866</td>\n",
       "      <td>0.001558</td>\n",
       "      <td>0.042522</td>\n",
       "    </tr>\n",
       "    <tr>\n",
       "      <th>21594</th>\n",
       "      <td>0.2</td>\n",
       "      <td>0.266667</td>\n",
       "      <td>0.093394</td>\n",
       "      <td>0.001132</td>\n",
       "      <td>0.4</td>\n",
       "      <td>0.0</td>\n",
       "      <td>0.0</td>\n",
       "      <td>0.5</td>\n",
       "      <td>0.5</td>\n",
       "      <td>0.136062</td>\n",
       "      <td>0.000000</td>\n",
       "      <td>0.904348</td>\n",
       "      <td>0.000000</td>\n",
       "      <td>0.131313</td>\n",
       "      <td>0.173980</td>\n",
       "      <td>0.000731</td>\n",
       "      <td>0.042246</td>\n",
       "    </tr>\n",
       "    <tr>\n",
       "      <th>21595</th>\n",
       "      <td>0.1</td>\n",
       "      <td>0.033333</td>\n",
       "      <td>0.049355</td>\n",
       "      <td>0.000337</td>\n",
       "      <td>0.4</td>\n",
       "      <td>0.0</td>\n",
       "      <td>0.0</td>\n",
       "      <td>0.5</td>\n",
       "      <td>0.4</td>\n",
       "      <td>0.071903</td>\n",
       "      <td>0.000000</td>\n",
       "      <td>0.939130</td>\n",
       "      <td>0.000000</td>\n",
       "      <td>0.722222</td>\n",
       "      <td>0.106866</td>\n",
       "      <td>0.000811</td>\n",
       "      <td>0.032406</td>\n",
       "    </tr>\n",
       "  </tbody>\n",
       "</table>\n",
       "<p>21596 rows × 17 columns</p>\n",
       "</div>"
      ],
      "text/plain": [
       "       bedrooms  bathrooms  sqft_living  sqft_lot  floors  waterfront  view  \\\n",
       "0           0.2   0.066667     0.061503  0.003108     0.0         0.0   0.0   \n",
       "1           0.2   0.233333     0.167046  0.004072     0.4         0.0   0.0   \n",
       "2           0.1   0.066667     0.030372  0.005743     0.0         0.0   0.0   \n",
       "3           0.3   0.333333     0.120729  0.002714     0.0         0.0   0.0   \n",
       "4           0.2   0.200000     0.099468  0.004579     0.0         0.0   0.0   \n",
       "...         ...        ...          ...       ...     ...         ...   ...   \n",
       "21591       0.2   0.266667     0.088079  0.000370     0.8         0.0   0.0   \n",
       "21592       0.3   0.266667     0.147304  0.003206     0.4         0.0   0.0   \n",
       "21593       0.1   0.033333     0.049355  0.000503     0.4         0.0   0.0   \n",
       "21594       0.2   0.266667     0.093394  0.001132     0.4         0.0   0.0   \n",
       "21595       0.1   0.033333     0.049355  0.000337     0.4         0.0   0.0   \n",
       "\n",
       "       condition  grade  sqft_above  sqft_basement  yr_built  yr_renovated  \\\n",
       "0            0.5    0.4    0.089602       0.000000  0.478261      0.000000   \n",
       "1            0.5    0.4    0.199115       0.082988  0.443478      0.988089   \n",
       "2            0.5    0.3    0.044248       0.000000  0.286957      0.000000   \n",
       "3            1.0    0.4    0.075221       0.188797  0.565217      0.000000   \n",
       "4            0.5    0.5    0.144912       0.000000  0.756522      0.000000   \n",
       "...          ...    ...         ...            ...       ...           ...   \n",
       "21591        0.5    0.5    0.128319       0.000000  0.947826      0.000000   \n",
       "21592        0.5    0.5    0.214602       0.000000  0.991304      0.000000   \n",
       "21593        0.5    0.4    0.071903       0.000000  0.947826      0.000000   \n",
       "21594        0.5    0.5    0.136062       0.000000  0.904348      0.000000   \n",
       "21595        0.5    0.4    0.071903       0.000000  0.939130      0.000000   \n",
       "\n",
       "        zipcode  sqft_living15  sqft_lot15     price  \n",
       "0      0.893939       0.161934    0.005742  0.018880  \n",
       "1      0.626263       0.222165    0.008027  0.060352  \n",
       "2      0.136364       0.399415    0.008513  0.013382  \n",
       "3      0.681818       0.165376    0.004996  0.069011  \n",
       "4      0.368687       0.241094    0.007871  0.056678  \n",
       "...         ...            ...         ...       ...  \n",
       "21591  0.515152       0.194631    0.000986  0.036998  \n",
       "21592  0.732323       0.246257    0.007523  0.042246  \n",
       "21593  0.722222       0.106866    0.001558  0.042522  \n",
       "21594  0.131313       0.173980    0.000731  0.042246  \n",
       "21595  0.722222       0.106866    0.000811  0.032406  \n",
       "\n",
       "[21596 rows x 17 columns]"
      ]
     },
     "execution_count": 69,
     "metadata": {},
     "output_type": "execute_result"
    }
   ],
   "source": [
    "df"
   ]
  },
  {
   "cell_type": "code",
   "execution_count": 70,
   "metadata": {},
   "outputs": [],
   "source": [
    "df = df.drop(['sqft_above','sqft_basement'], axis = 1)"
   ]
  },
  {
   "cell_type": "code",
   "execution_count": 71,
   "metadata": {},
   "outputs": [],
   "source": [
    "# repeat machine learning & evaluation process \n",
    "y_lr = df['price']\n",
    "X_lr = df.drop('price', axis = 1)\n",
    "\n",
    "X_lr_train, X_lr_test, y_lr_train, y_lr_test = train_test_split(X_lr, y_lr, test_size=0.3, random_state=40)\n",
    "\n",
    "linreg = LinearRegression().fit(X_lr_train, y_lr_train)\n",
    "plri=linreg.fit(X_lr_train,y_lr_train)    \n",
    "\n",
    "y_lr_pred = plri.predict(X_lr_test)"
   ]
  },
  {
   "cell_type": "code",
   "execution_count": 72,
   "metadata": {},
   "outputs": [
    {
     "data": {
      "text/plain": [
       "0.6645291215490169"
      ]
     },
     "execution_count": 72,
     "metadata": {},
     "output_type": "execute_result"
    }
   ],
   "source": [
    "# r squared\n",
    "r2(y_lr_test,y_lr_pred)"
   ]
  },
  {
   "cell_type": "code",
   "execution_count": 73,
   "metadata": {},
   "outputs": [
    {
     "data": {
      "text/plain": [
       "0.028012519621636287"
      ]
     },
     "execution_count": 73,
     "metadata": {},
     "output_type": "execute_result"
    }
   ],
   "source": [
    "# Root Mean Square Error(MSE)\n",
    "rmse = math.sqrt(mse(y_lr_test,y_lr_pred))\n",
    "rmse"
   ]
  },
  {
   "cell_type": "code",
   "execution_count": 74,
   "metadata": {},
   "outputs": [
    {
     "data": {
      "text/plain": [
       "0.018408987148094223"
      ]
     },
     "execution_count": 74,
     "metadata": {},
     "output_type": "execute_result"
    }
   ],
   "source": [
    "# Mean Absolute Error(MAE)\n",
    "mae(y_lr_test, y_lr_pred)"
   ]
  },
  {
   "cell_type": "code",
   "execution_count": 75,
   "metadata": {},
   "outputs": [],
   "source": [
    "# -> almost identical to base model"
   ]
  },
  {
   "cell_type": "markdown",
   "metadata": {},
   "source": [
    "### 6. Model 2: K Neighbours Regression"
   ]
  },
  {
   "cell_type": "code",
   "execution_count": 77,
   "metadata": {},
   "outputs": [
    {
     "data": {
      "text/plain": [
       "KNeighborsRegressor(n_neighbors=7)"
      ]
     },
     "execution_count": 77,
     "metadata": {},
     "output_type": "execute_result"
    }
   ],
   "source": [
    "# repeat machine learning & evaluation process with KNeighbour Regression instead of Linear Regression \n",
    "\n",
    "from sklearn.neighbors import KNeighborsRegressor\n",
    "df = base_df.copy()  # resetting df\n",
    "\n",
    "y_kn = df['price']\n",
    "X_kn = df.drop('price', axis = 1)\n",
    "\n",
    "X_kn_train, X_kn_test, y_kn_train, y_kn_test = train_test_split(X_kn, y_kn, test_size=0.3, random_state=40) \n",
    "\n",
    "pkn = KNeighborsRegressor(n_neighbors=7)\n",
    "pkn.fit(X_kn_train, y_kn_train)"
   ]
  },
  {
   "cell_type": "code",
   "execution_count": 78,
   "metadata": {},
   "outputs": [],
   "source": [
    "y_kn_pred = pkn.predict(X_kn_test)"
   ]
  },
  {
   "cell_type": "code",
   "execution_count": 79,
   "metadata": {},
   "outputs": [
    {
     "data": {
      "text/plain": [
       "0.7146768132989368"
      ]
     },
     "execution_count": 79,
     "metadata": {},
     "output_type": "execute_result"
    }
   ],
   "source": [
    "# r squared\n",
    "r2(y_kn_test,y_kn_pred)"
   ]
  },
  {
   "cell_type": "code",
   "execution_count": 80,
   "metadata": {},
   "outputs": [
    {
     "data": {
      "text/plain": [
       "0.025834097466285944"
      ]
     },
     "execution_count": 80,
     "metadata": {},
     "output_type": "execute_result"
    }
   ],
   "source": [
    "# Root Mean Square Error(MSE)\n",
    "rmse = math.sqrt(mse(y_kn_test,y_kn_pred))\n",
    "rmse"
   ]
  },
  {
   "cell_type": "code",
   "execution_count": 81,
   "metadata": {},
   "outputs": [
    {
     "data": {
      "text/plain": [
       "0.015108498072176842"
      ]
     },
     "execution_count": 81,
     "metadata": {},
     "output_type": "execute_result"
    }
   ],
   "source": [
    "# Mean Absolute Error(MAE)\n",
    "mae(y_kn_test, y_kn_pred)"
   ]
  },
  {
   "cell_type": "code",
   "execution_count": 82,
   "metadata": {},
   "outputs": [],
   "source": [
    "# -> large improvement to linear regression model | pretty stable regarding k"
   ]
  },
  {
   "cell_type": "code",
   "execution_count": 83,
   "metadata": {},
   "outputs": [
    {
     "data": {
      "image/png": "[encoded data removed]",
      "text/plain": [
       "<Figure size 1080x720 with 1 Axes>"
      ]
     },
     "metadata": {},
     "output_type": "display_data"
    }
   ],
   "source": [
    "# process to find best k \n",
    "# define list for train and test accuracy\n",
    "accuracy_train=[] \n",
    "accuracy_test=[]\n",
    "# create for-loop that iterates through the KN model with k being in a range of 1-25\n",
    "for k in range(1,25):\n",
    "    # accuracy of predicting train data\n",
    "    pkn = KNeighborsRegressor(n_neighbors=k)\n",
    "    pkn.fit(X_kn_test, y_kn_test)\n",
    "    y_kn_pred1=pkn.predict(X_kn_train)\n",
    "    accuracy_train.append(r2(y_kn_train,y_kn_pred1))\n",
    "    # accuracy of predicting test data\n",
    "    pkn = KNeighborsRegressor(n_neighbors=k)\n",
    "    pkn.fit(X_kn_train, y_kn_train)\n",
    "    y_kn_pred2=pkn.predict(X_kn_test)\n",
    "    accuracy_test.append(r2(y_kn_test,y_kn_pred2))\n",
    "# plotting the two graphs\n",
    "plt.plot(range(1,25),accuracy_train,label='train')\n",
    "plt.plot(range(1,25),accuracy_test,label='test')\n",
    "plt.xlabel('k value')\n",
    "plt.ylabel('accuracy')\n",
    "plt.legend();"
   ]
  },
  {
   "cell_type": "markdown",
   "metadata": {},
   "source": [
    "### 6.1 Attempt: Grouping"
   ]
  },
  {
   "cell_type": "code",
   "execution_count": 84,
   "metadata": {
    "collapsed": true
   },
   "outputs": [
    {
     "data": {
      "text/html": [
       "<div>\n",
       "<style scoped>\n",
       "    .dataframe tbody tr th:only-of-type {\n",
       "        vertical-align: middle;\n",
       "    }\n",
       "\n",
       "    .dataframe tbody tr th {\n",
       "        vertical-align: top;\n",
       "    }\n",
       "\n",
       "    .dataframe thead th {\n",
       "        text-align: right;\n",
       "    }\n",
       "</style>\n",
       "<table border=\"1\" class=\"dataframe\">\n",
       "  <thead>\n",
       "    <tr style=\"text-align: right;\">\n",
       "      <th></th>\n",
       "      <th>bedrooms</th>\n",
       "      <th>bathrooms</th>\n",
       "      <th>sqft_living</th>\n",
       "      <th>sqft_lot</th>\n",
       "      <th>floors</th>\n",
       "      <th>waterfront</th>\n",
       "      <th>view</th>\n",
       "      <th>condition</th>\n",
       "      <th>grade</th>\n",
       "      <th>sqft_above</th>\n",
       "      <th>sqft_basement</th>\n",
       "      <th>yr_built</th>\n",
       "      <th>yr_renovated</th>\n",
       "      <th>zipcode</th>\n",
       "      <th>sqft_living15</th>\n",
       "      <th>sqft_lot15</th>\n",
       "      <th>price</th>\n",
       "    </tr>\n",
       "  </thead>\n",
       "  <tbody>\n",
       "    <tr>\n",
       "      <th>0</th>\n",
       "      <td>0.2</td>\n",
       "      <td>0.066667</td>\n",
       "      <td>0.061503</td>\n",
       "      <td>0.003108</td>\n",
       "      <td>0.0</td>\n",
       "      <td>0.0</td>\n",
       "      <td>0.0</td>\n",
       "      <td>0.5</td>\n",
       "      <td>0.4</td>\n",
       "      <td>0.089602</td>\n",
       "      <td>0.000000</td>\n",
       "      <td>0.478261</td>\n",
       "      <td>0.000000</td>\n",
       "      <td>0.893939</td>\n",
       "      <td>0.161934</td>\n",
       "      <td>0.005742</td>\n",
       "      <td>0.018880</td>\n",
       "    </tr>\n",
       "    <tr>\n",
       "      <th>1</th>\n",
       "      <td>0.2</td>\n",
       "      <td>0.233333</td>\n",
       "      <td>0.167046</td>\n",
       "      <td>0.004072</td>\n",
       "      <td>0.4</td>\n",
       "      <td>0.0</td>\n",
       "      <td>0.0</td>\n",
       "      <td>0.5</td>\n",
       "      <td>0.4</td>\n",
       "      <td>0.199115</td>\n",
       "      <td>0.082988</td>\n",
       "      <td>0.443478</td>\n",
       "      <td>0.988089</td>\n",
       "      <td>0.626263</td>\n",
       "      <td>0.222165</td>\n",
       "      <td>0.008027</td>\n",
       "      <td>0.060352</td>\n",
       "    </tr>\n",
       "    <tr>\n",
       "      <th>2</th>\n",
       "      <td>0.1</td>\n",
       "      <td>0.066667</td>\n",
       "      <td>0.030372</td>\n",
       "      <td>0.005743</td>\n",
       "      <td>0.0</td>\n",
       "      <td>0.0</td>\n",
       "      <td>0.0</td>\n",
       "      <td>0.5</td>\n",
       "      <td>0.3</td>\n",
       "      <td>0.044248</td>\n",
       "      <td>0.000000</td>\n",
       "      <td>0.286957</td>\n",
       "      <td>0.000000</td>\n",
       "      <td>0.136364</td>\n",
       "      <td>0.399415</td>\n",
       "      <td>0.008513</td>\n",
       "      <td>0.013382</td>\n",
       "    </tr>\n",
       "    <tr>\n",
       "      <th>3</th>\n",
       "      <td>0.3</td>\n",
       "      <td>0.333333</td>\n",
       "      <td>0.120729</td>\n",
       "      <td>0.002714</td>\n",
       "      <td>0.0</td>\n",
       "      <td>0.0</td>\n",
       "      <td>0.0</td>\n",
       "      <td>1.0</td>\n",
       "      <td>0.4</td>\n",
       "      <td>0.075221</td>\n",
       "      <td>0.188797</td>\n",
       "      <td>0.565217</td>\n",
       "      <td>0.000000</td>\n",
       "      <td>0.681818</td>\n",
       "      <td>0.165376</td>\n",
       "      <td>0.004996</td>\n",
       "      <td>0.069011</td>\n",
       "    </tr>\n",
       "    <tr>\n",
       "      <th>4</th>\n",
       "      <td>0.2</td>\n",
       "      <td>0.200000</td>\n",
       "      <td>0.099468</td>\n",
       "      <td>0.004579</td>\n",
       "      <td>0.0</td>\n",
       "      <td>0.0</td>\n",
       "      <td>0.0</td>\n",
       "      <td>0.5</td>\n",
       "      <td>0.5</td>\n",
       "      <td>0.144912</td>\n",
       "      <td>0.000000</td>\n",
       "      <td>0.756522</td>\n",
       "      <td>0.000000</td>\n",
       "      <td>0.368687</td>\n",
       "      <td>0.241094</td>\n",
       "      <td>0.007871</td>\n",
       "      <td>0.056678</td>\n",
       "    </tr>\n",
       "    <tr>\n",
       "      <th>...</th>\n",
       "      <td>...</td>\n",
       "      <td>...</td>\n",
       "      <td>...</td>\n",
       "      <td>...</td>\n",
       "      <td>...</td>\n",
       "      <td>...</td>\n",
       "      <td>...</td>\n",
       "      <td>...</td>\n",
       "      <td>...</td>\n",
       "      <td>...</td>\n",
       "      <td>...</td>\n",
       "      <td>...</td>\n",
       "      <td>...</td>\n",
       "      <td>...</td>\n",
       "      <td>...</td>\n",
       "      <td>...</td>\n",
       "      <td>...</td>\n",
       "    </tr>\n",
       "    <tr>\n",
       "      <th>21591</th>\n",
       "      <td>0.2</td>\n",
       "      <td>0.266667</td>\n",
       "      <td>0.088079</td>\n",
       "      <td>0.000370</td>\n",
       "      <td>0.8</td>\n",
       "      <td>0.0</td>\n",
       "      <td>0.0</td>\n",
       "      <td>0.5</td>\n",
       "      <td>0.5</td>\n",
       "      <td>0.128319</td>\n",
       "      <td>0.000000</td>\n",
       "      <td>0.947826</td>\n",
       "      <td>0.000000</td>\n",
       "      <td>0.515152</td>\n",
       "      <td>0.194631</td>\n",
       "      <td>0.000986</td>\n",
       "      <td>0.036998</td>\n",
       "    </tr>\n",
       "    <tr>\n",
       "      <th>21592</th>\n",
       "      <td>0.3</td>\n",
       "      <td>0.266667</td>\n",
       "      <td>0.147304</td>\n",
       "      <td>0.003206</td>\n",
       "      <td>0.4</td>\n",
       "      <td>0.0</td>\n",
       "      <td>0.0</td>\n",
       "      <td>0.5</td>\n",
       "      <td>0.5</td>\n",
       "      <td>0.214602</td>\n",
       "      <td>0.000000</td>\n",
       "      <td>0.991304</td>\n",
       "      <td>0.000000</td>\n",
       "      <td>0.732323</td>\n",
       "      <td>0.246257</td>\n",
       "      <td>0.007523</td>\n",
       "      <td>0.042246</td>\n",
       "    </tr>\n",
       "    <tr>\n",
       "      <th>21593</th>\n",
       "      <td>0.1</td>\n",
       "      <td>0.033333</td>\n",
       "      <td>0.049355</td>\n",
       "      <td>0.000503</td>\n",
       "      <td>0.4</td>\n",
       "      <td>0.0</td>\n",
       "      <td>0.0</td>\n",
       "      <td>0.5</td>\n",
       "      <td>0.4</td>\n",
       "      <td>0.071903</td>\n",
       "      <td>0.000000</td>\n",
       "      <td>0.947826</td>\n",
       "      <td>0.000000</td>\n",
       "      <td>0.722222</td>\n",
       "      <td>0.106866</td>\n",
       "      <td>0.001558</td>\n",
       "      <td>0.042522</td>\n",
       "    </tr>\n",
       "    <tr>\n",
       "      <th>21594</th>\n",
       "      <td>0.2</td>\n",
       "      <td>0.266667</td>\n",
       "      <td>0.093394</td>\n",
       "      <td>0.001132</td>\n",
       "      <td>0.4</td>\n",
       "      <td>0.0</td>\n",
       "      <td>0.0</td>\n",
       "      <td>0.5</td>\n",
       "      <td>0.5</td>\n",
       "      <td>0.136062</td>\n",
       "      <td>0.000000</td>\n",
       "      <td>0.904348</td>\n",
       "      <td>0.000000</td>\n",
       "      <td>0.131313</td>\n",
       "      <td>0.173980</td>\n",
       "      <td>0.000731</td>\n",
       "      <td>0.042246</td>\n",
       "    </tr>\n",
       "    <tr>\n",
       "      <th>21595</th>\n",
       "      <td>0.1</td>\n",
       "      <td>0.033333</td>\n",
       "      <td>0.049355</td>\n",
       "      <td>0.000337</td>\n",
       "      <td>0.4</td>\n",
       "      <td>0.0</td>\n",
       "      <td>0.0</td>\n",
       "      <td>0.5</td>\n",
       "      <td>0.4</td>\n",
       "      <td>0.071903</td>\n",
       "      <td>0.000000</td>\n",
       "      <td>0.939130</td>\n",
       "      <td>0.000000</td>\n",
       "      <td>0.722222</td>\n",
       "      <td>0.106866</td>\n",
       "      <td>0.000811</td>\n",
       "      <td>0.032406</td>\n",
       "    </tr>\n",
       "  </tbody>\n",
       "</table>\n",
       "<p>21596 rows × 17 columns</p>\n",
       "</div>"
      ],
      "text/plain": [
       "       bedrooms  bathrooms  sqft_living  sqft_lot  floors  waterfront  view  \\\n",
       "0           0.2   0.066667     0.061503  0.003108     0.0         0.0   0.0   \n",
       "1           0.2   0.233333     0.167046  0.004072     0.4         0.0   0.0   \n",
       "2           0.1   0.066667     0.030372  0.005743     0.0         0.0   0.0   \n",
       "3           0.3   0.333333     0.120729  0.002714     0.0         0.0   0.0   \n",
       "4           0.2   0.200000     0.099468  0.004579     0.0         0.0   0.0   \n",
       "...         ...        ...          ...       ...     ...         ...   ...   \n",
       "21591       0.2   0.266667     0.088079  0.000370     0.8         0.0   0.0   \n",
       "21592       0.3   0.266667     0.147304  0.003206     0.4         0.0   0.0   \n",
       "21593       0.1   0.033333     0.049355  0.000503     0.4         0.0   0.0   \n",
       "21594       0.2   0.266667     0.093394  0.001132     0.4         0.0   0.0   \n",
       "21595       0.1   0.033333     0.049355  0.000337     0.4         0.0   0.0   \n",
       "\n",
       "       condition  grade  sqft_above  sqft_basement  yr_built  yr_renovated  \\\n",
       "0            0.5    0.4    0.089602       0.000000  0.478261      0.000000   \n",
       "1            0.5    0.4    0.199115       0.082988  0.443478      0.988089   \n",
       "2            0.5    0.3    0.044248       0.000000  0.286957      0.000000   \n",
       "3            1.0    0.4    0.075221       0.188797  0.565217      0.000000   \n",
       "4            0.5    0.5    0.144912       0.000000  0.756522      0.000000   \n",
       "...          ...    ...         ...            ...       ...           ...   \n",
       "21591        0.5    0.5    0.128319       0.000000  0.947826      0.000000   \n",
       "21592        0.5    0.5    0.214602       0.000000  0.991304      0.000000   \n",
       "21593        0.5    0.4    0.071903       0.000000  0.947826      0.000000   \n",
       "21594        0.5    0.5    0.136062       0.000000  0.904348      0.000000   \n",
       "21595        0.5    0.4    0.071903       0.000000  0.939130      0.000000   \n",
       "\n",
       "        zipcode  sqft_living15  sqft_lot15     price  \n",
       "0      0.893939       0.161934    0.005742  0.018880  \n",
       "1      0.626263       0.222165    0.008027  0.060352  \n",
       "2      0.136364       0.399415    0.008513  0.013382  \n",
       "3      0.681818       0.165376    0.004996  0.069011  \n",
       "4      0.368687       0.241094    0.007871  0.056678  \n",
       "...         ...            ...         ...       ...  \n",
       "21591  0.515152       0.194631    0.000986  0.036998  \n",
       "21592  0.732323       0.246257    0.007523  0.042246  \n",
       "21593  0.722222       0.106866    0.001558  0.042522  \n",
       "21594  0.131313       0.173980    0.000731  0.042246  \n",
       "21595  0.722222       0.106866    0.000811  0.032406  \n",
       "\n",
       "[21596 rows x 17 columns]"
      ]
     },
     "execution_count": 84,
     "metadata": {},
     "output_type": "execute_result"
    }
   ],
   "source": [
    "base_df"
   ]
  },
  {
   "cell_type": "code",
   "execution_count": 85,
   "metadata": {},
   "outputs": [],
   "source": [
    "# transform yr_renovated & yr_built into meaningful numerical categories\n",
    "# Explanation for categorization: A house should be renovated every 15 years (on average). \n",
    "# 2 = freshly renovated, 1 = still in 'acceptable' range, 3 = out of range\n",
    "df = base_df.copy()\n",
    "def groupyr_ren(year):\n",
    "    if year >= 2010:\n",
    "        return 2\n",
    "    elif year >= 2000:\n",
    "        return 1\n",
    "    else:\n",
    "        return 0\n",
    "df['yr_renovated'] = pd.Series(list(map(groupyr_ren,df['yr_renovated'])))"
   ]
  },
  {
   "cell_type": "code",
   "execution_count": 86,
   "metadata": {
    "collapsed": true
   },
   "outputs": [
    {
     "data": {
      "text/html": [
       "<div>\n",
       "<style scoped>\n",
       "    .dataframe tbody tr th:only-of-type {\n",
       "        vertical-align: middle;\n",
       "    }\n",
       "\n",
       "    .dataframe tbody tr th {\n",
       "        vertical-align: top;\n",
       "    }\n",
       "\n",
       "    .dataframe thead th {\n",
       "        text-align: right;\n",
       "    }\n",
       "</style>\n",
       "<table border=\"1\" class=\"dataframe\">\n",
       "  <thead>\n",
       "    <tr style=\"text-align: right;\">\n",
       "      <th></th>\n",
       "      <th>bedrooms</th>\n",
       "      <th>bathrooms</th>\n",
       "      <th>sqft_living</th>\n",
       "      <th>sqft_lot</th>\n",
       "      <th>floors</th>\n",
       "      <th>waterfront</th>\n",
       "      <th>view</th>\n",
       "      <th>condition</th>\n",
       "      <th>grade</th>\n",
       "      <th>sqft_above</th>\n",
       "      <th>sqft_basement</th>\n",
       "      <th>yr_built</th>\n",
       "      <th>yr_renovated</th>\n",
       "      <th>zipcode</th>\n",
       "      <th>sqft_living15</th>\n",
       "      <th>sqft_lot15</th>\n",
       "      <th>price</th>\n",
       "    </tr>\n",
       "  </thead>\n",
       "  <tbody>\n",
       "    <tr>\n",
       "      <th>0</th>\n",
       "      <td>0.2</td>\n",
       "      <td>0.066667</td>\n",
       "      <td>0.061503</td>\n",
       "      <td>0.003108</td>\n",
       "      <td>0.0</td>\n",
       "      <td>0.0</td>\n",
       "      <td>0.0</td>\n",
       "      <td>0.5</td>\n",
       "      <td>0.4</td>\n",
       "      <td>0.089602</td>\n",
       "      <td>0.000000</td>\n",
       "      <td>0.478261</td>\n",
       "      <td>0</td>\n",
       "      <td>0.893939</td>\n",
       "      <td>0.161934</td>\n",
       "      <td>0.005742</td>\n",
       "      <td>0.018880</td>\n",
       "    </tr>\n",
       "    <tr>\n",
       "      <th>1</th>\n",
       "      <td>0.2</td>\n",
       "      <td>0.233333</td>\n",
       "      <td>0.167046</td>\n",
       "      <td>0.004072</td>\n",
       "      <td>0.4</td>\n",
       "      <td>0.0</td>\n",
       "      <td>0.0</td>\n",
       "      <td>0.5</td>\n",
       "      <td>0.4</td>\n",
       "      <td>0.199115</td>\n",
       "      <td>0.082988</td>\n",
       "      <td>0.443478</td>\n",
       "      <td>0</td>\n",
       "      <td>0.626263</td>\n",
       "      <td>0.222165</td>\n",
       "      <td>0.008027</td>\n",
       "      <td>0.060352</td>\n",
       "    </tr>\n",
       "    <tr>\n",
       "      <th>2</th>\n",
       "      <td>0.1</td>\n",
       "      <td>0.066667</td>\n",
       "      <td>0.030372</td>\n",
       "      <td>0.005743</td>\n",
       "      <td>0.0</td>\n",
       "      <td>0.0</td>\n",
       "      <td>0.0</td>\n",
       "      <td>0.5</td>\n",
       "      <td>0.3</td>\n",
       "      <td>0.044248</td>\n",
       "      <td>0.000000</td>\n",
       "      <td>0.286957</td>\n",
       "      <td>0</td>\n",
       "      <td>0.136364</td>\n",
       "      <td>0.399415</td>\n",
       "      <td>0.008513</td>\n",
       "      <td>0.013382</td>\n",
       "    </tr>\n",
       "    <tr>\n",
       "      <th>3</th>\n",
       "      <td>0.3</td>\n",
       "      <td>0.333333</td>\n",
       "      <td>0.120729</td>\n",
       "      <td>0.002714</td>\n",
       "      <td>0.0</td>\n",
       "      <td>0.0</td>\n",
       "      <td>0.0</td>\n",
       "      <td>1.0</td>\n",
       "      <td>0.4</td>\n",
       "      <td>0.075221</td>\n",
       "      <td>0.188797</td>\n",
       "      <td>0.565217</td>\n",
       "      <td>0</td>\n",
       "      <td>0.681818</td>\n",
       "      <td>0.165376</td>\n",
       "      <td>0.004996</td>\n",
       "      <td>0.069011</td>\n",
       "    </tr>\n",
       "    <tr>\n",
       "      <th>4</th>\n",
       "      <td>0.2</td>\n",
       "      <td>0.200000</td>\n",
       "      <td>0.099468</td>\n",
       "      <td>0.004579</td>\n",
       "      <td>0.0</td>\n",
       "      <td>0.0</td>\n",
       "      <td>0.0</td>\n",
       "      <td>0.5</td>\n",
       "      <td>0.5</td>\n",
       "      <td>0.144912</td>\n",
       "      <td>0.000000</td>\n",
       "      <td>0.756522</td>\n",
       "      <td>0</td>\n",
       "      <td>0.368687</td>\n",
       "      <td>0.241094</td>\n",
       "      <td>0.007871</td>\n",
       "      <td>0.056678</td>\n",
       "    </tr>\n",
       "    <tr>\n",
       "      <th>...</th>\n",
       "      <td>...</td>\n",
       "      <td>...</td>\n",
       "      <td>...</td>\n",
       "      <td>...</td>\n",
       "      <td>...</td>\n",
       "      <td>...</td>\n",
       "      <td>...</td>\n",
       "      <td>...</td>\n",
       "      <td>...</td>\n",
       "      <td>...</td>\n",
       "      <td>...</td>\n",
       "      <td>...</td>\n",
       "      <td>...</td>\n",
       "      <td>...</td>\n",
       "      <td>...</td>\n",
       "      <td>...</td>\n",
       "      <td>...</td>\n",
       "    </tr>\n",
       "    <tr>\n",
       "      <th>21591</th>\n",
       "      <td>0.2</td>\n",
       "      <td>0.266667</td>\n",
       "      <td>0.088079</td>\n",
       "      <td>0.000370</td>\n",
       "      <td>0.8</td>\n",
       "      <td>0.0</td>\n",
       "      <td>0.0</td>\n",
       "      <td>0.5</td>\n",
       "      <td>0.5</td>\n",
       "      <td>0.128319</td>\n",
       "      <td>0.000000</td>\n",
       "      <td>0.947826</td>\n",
       "      <td>0</td>\n",
       "      <td>0.515152</td>\n",
       "      <td>0.194631</td>\n",
       "      <td>0.000986</td>\n",
       "      <td>0.036998</td>\n",
       "    </tr>\n",
       "    <tr>\n",
       "      <th>21592</th>\n",
       "      <td>0.3</td>\n",
       "      <td>0.266667</td>\n",
       "      <td>0.147304</td>\n",
       "      <td>0.003206</td>\n",
       "      <td>0.4</td>\n",
       "      <td>0.0</td>\n",
       "      <td>0.0</td>\n",
       "      <td>0.5</td>\n",
       "      <td>0.5</td>\n",
       "      <td>0.214602</td>\n",
       "      <td>0.000000</td>\n",
       "      <td>0.991304</td>\n",
       "      <td>0</td>\n",
       "      <td>0.732323</td>\n",
       "      <td>0.246257</td>\n",
       "      <td>0.007523</td>\n",
       "      <td>0.042246</td>\n",
       "    </tr>\n",
       "    <tr>\n",
       "      <th>21593</th>\n",
       "      <td>0.1</td>\n",
       "      <td>0.033333</td>\n",
       "      <td>0.049355</td>\n",
       "      <td>0.000503</td>\n",
       "      <td>0.4</td>\n",
       "      <td>0.0</td>\n",
       "      <td>0.0</td>\n",
       "      <td>0.5</td>\n",
       "      <td>0.4</td>\n",
       "      <td>0.071903</td>\n",
       "      <td>0.000000</td>\n",
       "      <td>0.947826</td>\n",
       "      <td>0</td>\n",
       "      <td>0.722222</td>\n",
       "      <td>0.106866</td>\n",
       "      <td>0.001558</td>\n",
       "      <td>0.042522</td>\n",
       "    </tr>\n",
       "    <tr>\n",
       "      <th>21594</th>\n",
       "      <td>0.2</td>\n",
       "      <td>0.266667</td>\n",
       "      <td>0.093394</td>\n",
       "      <td>0.001132</td>\n",
       "      <td>0.4</td>\n",
       "      <td>0.0</td>\n",
       "      <td>0.0</td>\n",
       "      <td>0.5</td>\n",
       "      <td>0.5</td>\n",
       "      <td>0.136062</td>\n",
       "      <td>0.000000</td>\n",
       "      <td>0.904348</td>\n",
       "      <td>0</td>\n",
       "      <td>0.131313</td>\n",
       "      <td>0.173980</td>\n",
       "      <td>0.000731</td>\n",
       "      <td>0.042246</td>\n",
       "    </tr>\n",
       "    <tr>\n",
       "      <th>21595</th>\n",
       "      <td>0.1</td>\n",
       "      <td>0.033333</td>\n",
       "      <td>0.049355</td>\n",
       "      <td>0.000337</td>\n",
       "      <td>0.4</td>\n",
       "      <td>0.0</td>\n",
       "      <td>0.0</td>\n",
       "      <td>0.5</td>\n",
       "      <td>0.4</td>\n",
       "      <td>0.071903</td>\n",
       "      <td>0.000000</td>\n",
       "      <td>0.939130</td>\n",
       "      <td>0</td>\n",
       "      <td>0.722222</td>\n",
       "      <td>0.106866</td>\n",
       "      <td>0.000811</td>\n",
       "      <td>0.032406</td>\n",
       "    </tr>\n",
       "  </tbody>\n",
       "</table>\n",
       "<p>21596 rows × 17 columns</p>\n",
       "</div>"
      ],
      "text/plain": [
       "       bedrooms  bathrooms  sqft_living  sqft_lot  floors  waterfront  view  \\\n",
       "0           0.2   0.066667     0.061503  0.003108     0.0         0.0   0.0   \n",
       "1           0.2   0.233333     0.167046  0.004072     0.4         0.0   0.0   \n",
       "2           0.1   0.066667     0.030372  0.005743     0.0         0.0   0.0   \n",
       "3           0.3   0.333333     0.120729  0.002714     0.0         0.0   0.0   \n",
       "4           0.2   0.200000     0.099468  0.004579     0.0         0.0   0.0   \n",
       "...         ...        ...          ...       ...     ...         ...   ...   \n",
       "21591       0.2   0.266667     0.088079  0.000370     0.8         0.0   0.0   \n",
       "21592       0.3   0.266667     0.147304  0.003206     0.4         0.0   0.0   \n",
       "21593       0.1   0.033333     0.049355  0.000503     0.4         0.0   0.0   \n",
       "21594       0.2   0.266667     0.093394  0.001132     0.4         0.0   0.0   \n",
       "21595       0.1   0.033333     0.049355  0.000337     0.4         0.0   0.0   \n",
       "\n",
       "       condition  grade  sqft_above  sqft_basement  yr_built  yr_renovated  \\\n",
       "0            0.5    0.4    0.089602       0.000000  0.478261             0   \n",
       "1            0.5    0.4    0.199115       0.082988  0.443478             0   \n",
       "2            0.5    0.3    0.044248       0.000000  0.286957             0   \n",
       "3            1.0    0.4    0.075221       0.188797  0.565217             0   \n",
       "4            0.5    0.5    0.144912       0.000000  0.756522             0   \n",
       "...          ...    ...         ...            ...       ...           ...   \n",
       "21591        0.5    0.5    0.128319       0.000000  0.947826             0   \n",
       "21592        0.5    0.5    0.214602       0.000000  0.991304             0   \n",
       "21593        0.5    0.4    0.071903       0.000000  0.947826             0   \n",
       "21594        0.5    0.5    0.136062       0.000000  0.904348             0   \n",
       "21595        0.5    0.4    0.071903       0.000000  0.939130             0   \n",
       "\n",
       "        zipcode  sqft_living15  sqft_lot15     price  \n",
       "0      0.893939       0.161934    0.005742  0.018880  \n",
       "1      0.626263       0.222165    0.008027  0.060352  \n",
       "2      0.136364       0.399415    0.008513  0.013382  \n",
       "3      0.681818       0.165376    0.004996  0.069011  \n",
       "4      0.368687       0.241094    0.007871  0.056678  \n",
       "...         ...            ...         ...       ...  \n",
       "21591  0.515152       0.194631    0.000986  0.036998  \n",
       "21592  0.732323       0.246257    0.007523  0.042246  \n",
       "21593  0.722222       0.106866    0.001558  0.042522  \n",
       "21594  0.131313       0.173980    0.000731  0.042246  \n",
       "21595  0.722222       0.106866    0.000811  0.032406  \n",
       "\n",
       "[21596 rows x 17 columns]"
      ]
     },
     "execution_count": 86,
     "metadata": {},
     "output_type": "execute_result"
    }
   ],
   "source": [
    "df"
   ]
  },
  {
   "cell_type": "code",
   "execution_count": 87,
   "metadata": {},
   "outputs": [],
   "source": [
    "# through testing, grouping yr_built has proven to be ineffective, but we will keep the code for now"
   ]
  },
  {
   "cell_type": "code",
   "execution_count": 88,
   "metadata": {},
   "outputs": [],
   "source": [
    "# yr_built has a more complex impact on price due to demand not behaving linear (see link below)\n",
    "# https://www.bankrate.com/real-estate/should-you-buy-an-old-or-new-home/#:~:text=Old%20house%20may%20mean%20old%20components&text=%E2%80%9CIf%20it's%20a%2050%2Dyear,rather%20irrelevant%2C%E2%80%9D%20Burkholder%20says.\n",
    "#def groupyr_bui(year):\n",
    "#    if year >= 2005:   \n",
    "#        return 5\n",
    "#    elif year >= 1990:    \n",
    "#        return 4\n",
    "#    elif year >= 1970:\n",
    "#        return 3\n",
    "#    elif year >= 1950:\n",
    "#        return 2\n",
    "#    elif year >= 1920:\n",
    "#        return 1\n",
    "#    else: \n",
    "#        return 0\n",
    "#df['yr_built'] = pd.Series(list(map(groupyr_bui,df['yr_built'])))"
   ]
  },
  {
   "cell_type": "markdown",
   "metadata": {},
   "source": [
    "### 6.1.2 Test Attempt-Grouping"
   ]
  },
  {
   "cell_type": "code",
   "execution_count": 89,
   "metadata": {},
   "outputs": [],
   "source": [
    "# repeat machine learning & evaluation process\n",
    "y_kn = df['price']\n",
    "X_kn = df.drop('price', axis = 1)\n",
    "\n",
    "X_kn_train, X_kn_test, y_kn_train, y_kn_test = train_test_split(X_kn, y_kn, test_size=0.3, random_state=40) "
   ]
  },
  {
   "cell_type": "code",
   "execution_count": 90,
   "metadata": {},
   "outputs": [
    {
     "data": {
      "image/png": "[encoded data removed]",
      "text/plain": [
       "<Figure size 1080x720 with 1 Axes>"
      ]
     },
     "metadata": {},
     "output_type": "display_data"
    }
   ],
   "source": [
    "# for explanation see model above\n",
    "accuracy_train=[]\n",
    "accuracy_test=[]\n",
    "for k in range(1,25):\n",
    "    pkn = KNeighborsRegressor(n_neighbors=k)\n",
    "    pkn.fit(X_kn_test, y_kn_test)\n",
    "    y_kn_pred1=pkn.predict(X_kn_train)\n",
    "    accuracy_train.append(r2(y_kn_train,y_kn_pred1)) \n",
    "    pkn = KNeighborsRegressor(n_neighbors=k)\n",
    "    pkn.fit(X_kn_train, y_kn_train)\n",
    "    y_kn_pred2=pkn.predict(X_kn_test)\n",
    "    accuracy_test.append(r2(y_kn_test,y_kn_pred2))\n",
    "plt.plot(range(1,25),accuracy_train,label='train')\n",
    "plt.plot(range(1,25),accuracy_test,label='test')\n",
    "plt.xlabel('k value')\n",
    "plt.ylabel('accuracy')\n",
    "plt.legend();"
   ]
  },
  {
   "cell_type": "code",
   "execution_count": 91,
   "metadata": {},
   "outputs": [],
   "source": [
    "# repeat machine learning & evaluation process\n",
    "pkn = KNeighborsRegressor(n_neighbors=7)\n",
    "pkn.fit(X_kn_train, y_kn_train)\n",
    "\n",
    "y_kn_pred = pkn.predict(X_kn_test)"
   ]
  },
  {
   "cell_type": "code",
   "execution_count": 92,
   "metadata": {},
   "outputs": [
    {
     "data": {
      "text/plain": [
       "0.716645517566489"
      ]
     },
     "execution_count": 92,
     "metadata": {},
     "output_type": "execute_result"
    }
   ],
   "source": [
    "# r squared\n",
    "r2(y_kn_test,y_kn_pred)"
   ]
  },
  {
   "cell_type": "code",
   "execution_count": 93,
   "metadata": {},
   "outputs": [
    {
     "data": {
      "text/plain": [
       "0.025744816720591056"
      ]
     },
     "execution_count": 93,
     "metadata": {},
     "output_type": "execute_result"
    }
   ],
   "source": [
    "# Root Mean Square Error(RMSE)\n",
    "rmse = math.sqrt(mse(y_kn_test,y_kn_pred))\n",
    "rmse"
   ]
  },
  {
   "cell_type": "code",
   "execution_count": 94,
   "metadata": {},
   "outputs": [],
   "source": [
    "# compared to the previous RMSE of 0.025834097466285944, our module has gotten slightly more accurate\n",
    "# in addition, the model became slightly more stable in regards to which k we use (useful implications for our case)"
   ]
  },
  {
   "cell_type": "markdown",
   "metadata": {},
   "source": [
    "### 6.2 Test Attempt-Correlations"
   ]
  },
  {
   "cell_type": "code",
   "execution_count": 95,
   "metadata": {},
   "outputs": [],
   "source": [
    "# we are going to continue using the grouped df"
   ]
  },
  {
   "cell_type": "code",
   "execution_count": 96,
   "metadata": {},
   "outputs": [],
   "source": [
    "# applying correlation attempt (for detail look at 5.3 Test Attempt-Correlations)\n",
    "df = df.drop(['sqft_above','sqft_basement'], axis = 1)"
   ]
  },
  {
   "cell_type": "code",
   "execution_count": 97,
   "metadata": {},
   "outputs": [],
   "source": [
    "# repeat machine learning & evaluation process\n",
    "\n",
    "y_kn = df['price']\n",
    "X_kn = df.drop('price', axis = 1)\n",
    "\n",
    "X_kn_train, X_kn_test, y_kn_train, y_kn_test = train_test_split(X_kn, y_kn, test_size=0.3, random_state=40) \n",
    "\n",
    "pkn = KNeighborsRegressor(n_neighbors=7)\n",
    "pkn.fit(X_kn_train, y_kn_train)\n",
    "\n",
    "y_kn_pred = pkn.predict(X_kn_test)"
   ]
  },
  {
   "cell_type": "code",
   "execution_count": 99,
   "metadata": {},
   "outputs": [
    {
     "data": {
      "text/plain": [
       "0.7225017309437385"
      ]
     },
     "execution_count": 99,
     "metadata": {},
     "output_type": "execute_result"
    }
   ],
   "source": [
    "# r squared\n",
    "r2(y_kn_test,y_kn_pred)"
   ]
  },
  {
   "cell_type": "code",
   "execution_count": 100,
   "metadata": {},
   "outputs": [
    {
     "data": {
      "text/plain": [
       "0.02547738793827747"
      ]
     },
     "execution_count": 100,
     "metadata": {},
     "output_type": "execute_result"
    }
   ],
   "source": [
    "# Root Mean Square Error(RMSE)\n",
    "rmse = math.sqrt(mse(y_kn_test,y_kn_pred))\n",
    "rmse"
   ]
  },
  {
   "cell_type": "code",
   "execution_count": 101,
   "metadata": {},
   "outputs": [
    {
     "data": {
      "image/png": "[encoded data removed]",
      "text/plain": [
       "<Figure size 1080x720 with 1 Axes>"
      ]
     },
     "metadata": {},
     "output_type": "display_data"
    }
   ],
   "source": [
    "accuracy_train=[]\n",
    "accuracy_test=[]\n",
    "for k in range(1,25):\n",
    "    pkn = KNeighborsRegressor(n_neighbors=k)\n",
    "    pkn.fit(X_kn_test, y_kn_test)\n",
    "    y_kn_pred1=pkn.predict(X_kn_train)\n",
    "    accuracy_train.append(r2(y_kn_train,y_kn_pred1)) \n",
    "    pkn = KNeighborsRegressor(n_neighbors=k)\n",
    "    pkn.fit(X_kn_train, y_kn_train)\n",
    "    y_kn_pred2=pkn.predict(X_kn_test)\n",
    "    accuracy_test.append(r2(y_kn_test,y_kn_pred2))\n",
    "plt.plot(range(1,25),accuracy_train,label='train')\n",
    "plt.plot(range(1,25),accuracy_test,label='test')\n",
    "plt.xlabel('k value')\n",
    "plt.ylabel('accuracy')\n",
    "plt.legend();"
   ]
  },
  {
   "cell_type": "code",
   "execution_count": 102,
   "metadata": {},
   "outputs": [],
   "source": [
    "# using correlations without grouping gave us a slightly worse model\n",
    "# rsme = 0.02553933258455653\n",
    "# r squared = 0.7211506953420461"
   ]
  },
  {
   "cell_type": "code",
   "execution_count": 103,
   "metadata": {},
   "outputs": [],
   "source": [
    "# Overall the modified KNeighbours model shows improved results from the Linear regression models"
   ]
  },
  {
   "cell_type": "markdown",
   "metadata": {},
   "source": [
    "### 7. Decision tree regression model"
   ]
  },
  {
   "cell_type": "code",
   "execution_count": 104,
   "metadata": {},
   "outputs": [],
   "source": [
    "from sklearn.tree import DecisionTreeRegressor\n",
    "\n",
    "df = base_df.copy()  # resetting df\n",
    "\n",
    "y_dt = df['price']\n",
    "X_dt = df.drop('price', axis = 1)\n",
    "\n",
    "X_dt_train, X_dt_test, y_dt_train, y_dt_test = train_test_split(X_dt, y_dt, test_size=0.3, random_state=40) \n",
    "\n",
    "pdt = DecisionTreeRegressor()\n",
    "pdt.fit(X_dt_train, y_dt_train)\n",
    "\n",
    "y_dt_pred = pdt.predict(X_dt_test)"
   ]
  },
  {
   "cell_type": "code",
   "execution_count": 105,
   "metadata": {},
   "outputs": [
    {
     "data": {
      "text/plain": [
       "0.6460032931847254"
      ]
     },
     "execution_count": 105,
     "metadata": {},
     "output_type": "execute_result"
    }
   ],
   "source": [
    "# r squared\n",
    "r2(y_dt_test,y_dt_pred)"
   ]
  },
  {
   "cell_type": "code",
   "execution_count": 106,
   "metadata": {},
   "outputs": [
    {
     "data": {
      "text/plain": [
       "0.028775598930037557"
      ]
     },
     "execution_count": 106,
     "metadata": {},
     "output_type": "execute_result"
    }
   ],
   "source": [
    "# Root Mean Square Error(MSE)\n",
    "rmse = math.sqrt(mse(y_dt_test,y_dt_pred))\n",
    "rmse"
   ]
  },
  {
   "cell_type": "markdown",
   "metadata": {},
   "source": [
    "### 8. Choosing our Candidate"
   ]
  },
  {
   "cell_type": "code",
   "execution_count": 107,
   "metadata": {},
   "outputs": [],
   "source": [
    "# So far, our K Neighbours model adjusted for correlation and grouping yr_renovated has shown the best \n",
    "# accuracy in predicting prices and the least error margin (RSME)"
   ]
  },
  {
   "cell_type": "markdown",
   "metadata": {},
   "source": [
    "### 9. Which factors are responsible for higher property value - $650K and above?"
   ]
  },
  {
   "cell_type": "code",
   "execution_count": 108,
   "metadata": {},
   "outputs": [],
   "source": [
    "# to be able to answer this question, I will taking the approach of checking the correlation of a reduced DataFrame\n",
    "# For this we can either use the pandas quering function or connect python to SQL"
   ]
  },
  {
   "cell_type": "markdown",
   "metadata": {},
   "source": [
    "### 9.1 Query DataFrame"
   ]
  },
  {
   "cell_type": "code",
   "execution_count": 183,
   "metadata": {
    "collapsed": true
   },
   "outputs": [
    {
     "data": {
      "text/html": [
       "<div>\n",
       "<style scoped>\n",
       "    .dataframe tbody tr th:only-of-type {\n",
       "        vertical-align: middle;\n",
       "    }\n",
       "\n",
       "    .dataframe tbody tr th {\n",
       "        vertical-align: top;\n",
       "    }\n",
       "\n",
       "    .dataframe thead th {\n",
       "        text-align: right;\n",
       "    }\n",
       "</style>\n",
       "<table border=\"1\" class=\"dataframe\">\n",
       "  <thead>\n",
       "    <tr style=\"text-align: right;\">\n",
       "      <th></th>\n",
       "      <th>bedrooms</th>\n",
       "      <th>bathrooms</th>\n",
       "      <th>sqft_living</th>\n",
       "      <th>sqft_lot</th>\n",
       "      <th>floors</th>\n",
       "      <th>waterfront</th>\n",
       "      <th>view</th>\n",
       "      <th>condition</th>\n",
       "      <th>grade</th>\n",
       "      <th>sqft_above</th>\n",
       "      <th>sqft_basement</th>\n",
       "      <th>yr_built</th>\n",
       "      <th>yr_renovated</th>\n",
       "      <th>zipcode</th>\n",
       "      <th>sqft_living15</th>\n",
       "      <th>sqft_lot15</th>\n",
       "      <th>price</th>\n",
       "    </tr>\n",
       "  </thead>\n",
       "  <tbody>\n",
       "    <tr>\n",
       "      <th>0</th>\n",
       "      <td>0.2</td>\n",
       "      <td>0.066667</td>\n",
       "      <td>0.061503</td>\n",
       "      <td>0.003108</td>\n",
       "      <td>0.0</td>\n",
       "      <td>0.0</td>\n",
       "      <td>0.0</td>\n",
       "      <td>0.5</td>\n",
       "      <td>0.4</td>\n",
       "      <td>0.089602</td>\n",
       "      <td>0.000000</td>\n",
       "      <td>0.478261</td>\n",
       "      <td>0.000000</td>\n",
       "      <td>0.893939</td>\n",
       "      <td>0.161934</td>\n",
       "      <td>0.005742</td>\n",
       "      <td>0.018880</td>\n",
       "    </tr>\n",
       "    <tr>\n",
       "      <th>1</th>\n",
       "      <td>0.2</td>\n",
       "      <td>0.233333</td>\n",
       "      <td>0.167046</td>\n",
       "      <td>0.004072</td>\n",
       "      <td>0.4</td>\n",
       "      <td>0.0</td>\n",
       "      <td>0.0</td>\n",
       "      <td>0.5</td>\n",
       "      <td>0.4</td>\n",
       "      <td>0.199115</td>\n",
       "      <td>0.082988</td>\n",
       "      <td>0.443478</td>\n",
       "      <td>0.988089</td>\n",
       "      <td>0.626263</td>\n",
       "      <td>0.222165</td>\n",
       "      <td>0.008027</td>\n",
       "      <td>0.060352</td>\n",
       "    </tr>\n",
       "    <tr>\n",
       "      <th>2</th>\n",
       "      <td>0.1</td>\n",
       "      <td>0.066667</td>\n",
       "      <td>0.030372</td>\n",
       "      <td>0.005743</td>\n",
       "      <td>0.0</td>\n",
       "      <td>0.0</td>\n",
       "      <td>0.0</td>\n",
       "      <td>0.5</td>\n",
       "      <td>0.3</td>\n",
       "      <td>0.044248</td>\n",
       "      <td>0.000000</td>\n",
       "      <td>0.286957</td>\n",
       "      <td>0.000000</td>\n",
       "      <td>0.136364</td>\n",
       "      <td>0.399415</td>\n",
       "      <td>0.008513</td>\n",
       "      <td>0.013382</td>\n",
       "    </tr>\n",
       "    <tr>\n",
       "      <th>3</th>\n",
       "      <td>0.3</td>\n",
       "      <td>0.333333</td>\n",
       "      <td>0.120729</td>\n",
       "      <td>0.002714</td>\n",
       "      <td>0.0</td>\n",
       "      <td>0.0</td>\n",
       "      <td>0.0</td>\n",
       "      <td>1.0</td>\n",
       "      <td>0.4</td>\n",
       "      <td>0.075221</td>\n",
       "      <td>0.188797</td>\n",
       "      <td>0.565217</td>\n",
       "      <td>0.000000</td>\n",
       "      <td>0.681818</td>\n",
       "      <td>0.165376</td>\n",
       "      <td>0.004996</td>\n",
       "      <td>0.069011</td>\n",
       "    </tr>\n",
       "    <tr>\n",
       "      <th>4</th>\n",
       "      <td>0.2</td>\n",
       "      <td>0.200000</td>\n",
       "      <td>0.099468</td>\n",
       "      <td>0.004579</td>\n",
       "      <td>0.0</td>\n",
       "      <td>0.0</td>\n",
       "      <td>0.0</td>\n",
       "      <td>0.5</td>\n",
       "      <td>0.5</td>\n",
       "      <td>0.144912</td>\n",
       "      <td>0.000000</td>\n",
       "      <td>0.756522</td>\n",
       "      <td>0.000000</td>\n",
       "      <td>0.368687</td>\n",
       "      <td>0.241094</td>\n",
       "      <td>0.007871</td>\n",
       "      <td>0.056678</td>\n",
       "    </tr>\n",
       "    <tr>\n",
       "      <th>...</th>\n",
       "      <td>...</td>\n",
       "      <td>...</td>\n",
       "      <td>...</td>\n",
       "      <td>...</td>\n",
       "      <td>...</td>\n",
       "      <td>...</td>\n",
       "      <td>...</td>\n",
       "      <td>...</td>\n",
       "      <td>...</td>\n",
       "      <td>...</td>\n",
       "      <td>...</td>\n",
       "      <td>...</td>\n",
       "      <td>...</td>\n",
       "      <td>...</td>\n",
       "      <td>...</td>\n",
       "      <td>...</td>\n",
       "      <td>...</td>\n",
       "    </tr>\n",
       "    <tr>\n",
       "      <th>21591</th>\n",
       "      <td>0.2</td>\n",
       "      <td>0.266667</td>\n",
       "      <td>0.088079</td>\n",
       "      <td>0.000370</td>\n",
       "      <td>0.8</td>\n",
       "      <td>0.0</td>\n",
       "      <td>0.0</td>\n",
       "      <td>0.5</td>\n",
       "      <td>0.5</td>\n",
       "      <td>0.128319</td>\n",
       "      <td>0.000000</td>\n",
       "      <td>0.947826</td>\n",
       "      <td>0.000000</td>\n",
       "      <td>0.515152</td>\n",
       "      <td>0.194631</td>\n",
       "      <td>0.000986</td>\n",
       "      <td>0.036998</td>\n",
       "    </tr>\n",
       "    <tr>\n",
       "      <th>21592</th>\n",
       "      <td>0.3</td>\n",
       "      <td>0.266667</td>\n",
       "      <td>0.147304</td>\n",
       "      <td>0.003206</td>\n",
       "      <td>0.4</td>\n",
       "      <td>0.0</td>\n",
       "      <td>0.0</td>\n",
       "      <td>0.5</td>\n",
       "      <td>0.5</td>\n",
       "      <td>0.214602</td>\n",
       "      <td>0.000000</td>\n",
       "      <td>0.991304</td>\n",
       "      <td>0.000000</td>\n",
       "      <td>0.732323</td>\n",
       "      <td>0.246257</td>\n",
       "      <td>0.007523</td>\n",
       "      <td>0.042246</td>\n",
       "    </tr>\n",
       "    <tr>\n",
       "      <th>21593</th>\n",
       "      <td>0.1</td>\n",
       "      <td>0.033333</td>\n",
       "      <td>0.049355</td>\n",
       "      <td>0.000503</td>\n",
       "      <td>0.4</td>\n",
       "      <td>0.0</td>\n",
       "      <td>0.0</td>\n",
       "      <td>0.5</td>\n",
       "      <td>0.4</td>\n",
       "      <td>0.071903</td>\n",
       "      <td>0.000000</td>\n",
       "      <td>0.947826</td>\n",
       "      <td>0.000000</td>\n",
       "      <td>0.722222</td>\n",
       "      <td>0.106866</td>\n",
       "      <td>0.001558</td>\n",
       "      <td>0.042522</td>\n",
       "    </tr>\n",
       "    <tr>\n",
       "      <th>21594</th>\n",
       "      <td>0.2</td>\n",
       "      <td>0.266667</td>\n",
       "      <td>0.093394</td>\n",
       "      <td>0.001132</td>\n",
       "      <td>0.4</td>\n",
       "      <td>0.0</td>\n",
       "      <td>0.0</td>\n",
       "      <td>0.5</td>\n",
       "      <td>0.5</td>\n",
       "      <td>0.136062</td>\n",
       "      <td>0.000000</td>\n",
       "      <td>0.904348</td>\n",
       "      <td>0.000000</td>\n",
       "      <td>0.131313</td>\n",
       "      <td>0.173980</td>\n",
       "      <td>0.000731</td>\n",
       "      <td>0.042246</td>\n",
       "    </tr>\n",
       "    <tr>\n",
       "      <th>21595</th>\n",
       "      <td>0.1</td>\n",
       "      <td>0.033333</td>\n",
       "      <td>0.049355</td>\n",
       "      <td>0.000337</td>\n",
       "      <td>0.4</td>\n",
       "      <td>0.0</td>\n",
       "      <td>0.0</td>\n",
       "      <td>0.5</td>\n",
       "      <td>0.4</td>\n",
       "      <td>0.071903</td>\n",
       "      <td>0.000000</td>\n",
       "      <td>0.939130</td>\n",
       "      <td>0.000000</td>\n",
       "      <td>0.722222</td>\n",
       "      <td>0.106866</td>\n",
       "      <td>0.000811</td>\n",
       "      <td>0.032406</td>\n",
       "    </tr>\n",
       "  </tbody>\n",
       "</table>\n",
       "<p>21596 rows × 17 columns</p>\n",
       "</div>"
      ],
      "text/plain": [
       "       bedrooms  bathrooms  sqft_living  sqft_lot  floors  waterfront  view  \\\n",
       "0           0.2   0.066667     0.061503  0.003108     0.0         0.0   0.0   \n",
       "1           0.2   0.233333     0.167046  0.004072     0.4         0.0   0.0   \n",
       "2           0.1   0.066667     0.030372  0.005743     0.0         0.0   0.0   \n",
       "3           0.3   0.333333     0.120729  0.002714     0.0         0.0   0.0   \n",
       "4           0.2   0.200000     0.099468  0.004579     0.0         0.0   0.0   \n",
       "...         ...        ...          ...       ...     ...         ...   ...   \n",
       "21591       0.2   0.266667     0.088079  0.000370     0.8         0.0   0.0   \n",
       "21592       0.3   0.266667     0.147304  0.003206     0.4         0.0   0.0   \n",
       "21593       0.1   0.033333     0.049355  0.000503     0.4         0.0   0.0   \n",
       "21594       0.2   0.266667     0.093394  0.001132     0.4         0.0   0.0   \n",
       "21595       0.1   0.033333     0.049355  0.000337     0.4         0.0   0.0   \n",
       "\n",
       "       condition  grade  sqft_above  sqft_basement  yr_built  yr_renovated  \\\n",
       "0            0.5    0.4    0.089602       0.000000  0.478261      0.000000   \n",
       "1            0.5    0.4    0.199115       0.082988  0.443478      0.988089   \n",
       "2            0.5    0.3    0.044248       0.000000  0.286957      0.000000   \n",
       "3            1.0    0.4    0.075221       0.188797  0.565217      0.000000   \n",
       "4            0.5    0.5    0.144912       0.000000  0.756522      0.000000   \n",
       "...          ...    ...         ...            ...       ...           ...   \n",
       "21591        0.5    0.5    0.128319       0.000000  0.947826      0.000000   \n",
       "21592        0.5    0.5    0.214602       0.000000  0.991304      0.000000   \n",
       "21593        0.5    0.4    0.071903       0.000000  0.947826      0.000000   \n",
       "21594        0.5    0.5    0.136062       0.000000  0.904348      0.000000   \n",
       "21595        0.5    0.4    0.071903       0.000000  0.939130      0.000000   \n",
       "\n",
       "        zipcode  sqft_living15  sqft_lot15     price  \n",
       "0      0.893939       0.161934    0.005742  0.018880  \n",
       "1      0.626263       0.222165    0.008027  0.060352  \n",
       "2      0.136364       0.399415    0.008513  0.013382  \n",
       "3      0.681818       0.165376    0.004996  0.069011  \n",
       "4      0.368687       0.241094    0.007871  0.056678  \n",
       "...         ...            ...         ...       ...  \n",
       "21591  0.515152       0.194631    0.000986  0.036998  \n",
       "21592  0.732323       0.246257    0.007523  0.042246  \n",
       "21593  0.722222       0.106866    0.001558  0.042522  \n",
       "21594  0.131313       0.173980    0.000731  0.042246  \n",
       "21595  0.722222       0.106866    0.000811  0.032406  \n",
       "\n",
       "[21596 rows x 17 columns]"
      ]
     },
     "execution_count": 183,
     "metadata": {},
     "output_type": "execute_result"
    }
   ],
   "source": [
    "base_df"
   ]
  },
  {
   "cell_type": "code",
   "execution_count": 184,
   "metadata": {},
   "outputs": [],
   "source": [
    "df = base_df.copy()  # use base dataframe"
   ]
  },
  {
   "cell_type": "code",
   "execution_count": 190,
   "metadata": {},
   "outputs": [],
   "source": [
    "# choose only rows where price is higher than 650k\n",
    "df = df[df['price']>= 650000 / 7700000]   # 650000 / 7700000 is to reverse the MinMaxScaler"
   ]
  },
  {
   "cell_type": "code",
   "execution_count": 192,
   "metadata": {
    "collapsed": true
   },
   "outputs": [
    {
     "data": {
      "text/html": [
       "<div>\n",
       "<style scoped>\n",
       "    .dataframe tbody tr th:only-of-type {\n",
       "        vertical-align: middle;\n",
       "    }\n",
       "\n",
       "    .dataframe tbody tr th {\n",
       "        vertical-align: top;\n",
       "    }\n",
       "\n",
       "    .dataframe thead th {\n",
       "        text-align: right;\n",
       "    }\n",
       "</style>\n",
       "<table border=\"1\" class=\"dataframe\">\n",
       "  <thead>\n",
       "    <tr style=\"text-align: right;\">\n",
       "      <th></th>\n",
       "      <th>bedrooms</th>\n",
       "      <th>bathrooms</th>\n",
       "      <th>sqft_living</th>\n",
       "      <th>sqft_lot</th>\n",
       "      <th>floors</th>\n",
       "      <th>waterfront</th>\n",
       "      <th>view</th>\n",
       "      <th>condition</th>\n",
       "      <th>grade</th>\n",
       "      <th>sqft_above</th>\n",
       "      <th>sqft_basement</th>\n",
       "      <th>yr_built</th>\n",
       "      <th>yr_renovated</th>\n",
       "      <th>zipcode</th>\n",
       "      <th>sqft_living15</th>\n",
       "      <th>sqft_lot15</th>\n",
       "      <th>price</th>\n",
       "    </tr>\n",
       "  </thead>\n",
       "  <tbody>\n",
       "    <tr>\n",
       "      <th>5</th>\n",
       "      <td>0.3</td>\n",
       "      <td>0.533333</td>\n",
       "      <td>0.383447</td>\n",
       "      <td>0.061429</td>\n",
       "      <td>0.0</td>\n",
       "      <td>0.0</td>\n",
       "      <td>0.0</td>\n",
       "      <td>0.5</td>\n",
       "      <td>0.8</td>\n",
       "      <td>0.389381</td>\n",
       "      <td>0.317427</td>\n",
       "      <td>0.878261</td>\n",
       "      <td>0.0</td>\n",
       "      <td>0.262626</td>\n",
       "      <td>0.750473</td>\n",
       "      <td>0.116339</td>\n",
       "      <td>0.151141</td>\n",
       "    </tr>\n",
       "    <tr>\n",
       "      <th>21</th>\n",
       "      <td>0.2</td>\n",
       "      <td>0.300000</td>\n",
       "      <td>0.203493</td>\n",
       "      <td>0.026863</td>\n",
       "      <td>0.0</td>\n",
       "      <td>0.0</td>\n",
       "      <td>1.0</td>\n",
       "      <td>0.5</td>\n",
       "      <td>0.6</td>\n",
       "      <td>0.216814</td>\n",
       "      <td>0.149378</td>\n",
       "      <td>0.591304</td>\n",
       "      <td>0.0</td>\n",
       "      <td>0.196970</td>\n",
       "      <td>0.638616</td>\n",
       "      <td>0.022612</td>\n",
       "      <td>0.252165</td>\n",
       "    </tr>\n",
       "    <tr>\n",
       "      <th>26</th>\n",
       "      <td>0.2</td>\n",
       "      <td>0.166667</td>\n",
       "      <td>0.157935</td>\n",
       "      <td>0.001315</td>\n",
       "      <td>0.4</td>\n",
       "      <td>0.0</td>\n",
       "      <td>0.0</td>\n",
       "      <td>0.5</td>\n",
       "      <td>0.5</td>\n",
       "      <td>0.152655</td>\n",
       "      <td>0.145228</td>\n",
       "      <td>0.130435</td>\n",
       "      <td>0.0</td>\n",
       "      <td>0.595960</td>\n",
       "      <td>0.234211</td>\n",
       "      <td>0.003357</td>\n",
       "      <td>0.112700</td>\n",
       "    </tr>\n",
       "    <tr>\n",
       "      <th>41</th>\n",
       "      <td>0.3</td>\n",
       "      <td>0.233333</td>\n",
       "      <td>0.292331</td>\n",
       "      <td>0.014336</td>\n",
       "      <td>0.0</td>\n",
       "      <td>0.0</td>\n",
       "      <td>0.0</td>\n",
       "      <td>0.5</td>\n",
       "      <td>0.5</td>\n",
       "      <td>0.246681</td>\n",
       "      <td>0.336100</td>\n",
       "      <td>0.730435</td>\n",
       "      <td>0.0</td>\n",
       "      <td>0.833333</td>\n",
       "      <td>0.346068</td>\n",
       "      <td>0.034422</td>\n",
       "      <td>0.091446</td>\n",
       "    </tr>\n",
       "    <tr>\n",
       "      <th>42</th>\n",
       "      <td>0.4</td>\n",
       "      <td>0.300000</td>\n",
       "      <td>0.244875</td>\n",
       "      <td>0.003101</td>\n",
       "      <td>0.4</td>\n",
       "      <td>0.0</td>\n",
       "      <td>0.0</td>\n",
       "      <td>0.5</td>\n",
       "      <td>0.6</td>\n",
       "      <td>0.356748</td>\n",
       "      <td>0.000000</td>\n",
       "      <td>0.991304</td>\n",
       "      <td>0.0</td>\n",
       "      <td>0.262626</td>\n",
       "      <td>0.555154</td>\n",
       "      <td>0.005730</td>\n",
       "      <td>0.102859</td>\n",
       "    </tr>\n",
       "    <tr>\n",
       "      <th>...</th>\n",
       "      <td>...</td>\n",
       "      <td>...</td>\n",
       "      <td>...</td>\n",
       "      <td>...</td>\n",
       "      <td>...</td>\n",
       "      <td>...</td>\n",
       "      <td>...</td>\n",
       "      <td>...</td>\n",
       "      <td>...</td>\n",
       "      <td>...</td>\n",
       "      <td>...</td>\n",
       "      <td>...</td>\n",
       "      <td>...</td>\n",
       "      <td>...</td>\n",
       "      <td>...</td>\n",
       "      <td>...</td>\n",
       "      <td>...</td>\n",
       "    </tr>\n",
       "    <tr>\n",
       "      <th>21576</th>\n",
       "      <td>0.4</td>\n",
       "      <td>0.433333</td>\n",
       "      <td>0.288535</td>\n",
       "      <td>0.004617</td>\n",
       "      <td>0.4</td>\n",
       "      <td>0.0</td>\n",
       "      <td>0.5</td>\n",
       "      <td>0.5</td>\n",
       "      <td>0.7</td>\n",
       "      <td>0.420354</td>\n",
       "      <td>0.000000</td>\n",
       "      <td>0.921739</td>\n",
       "      <td>0.0</td>\n",
       "      <td>0.277778</td>\n",
       "      <td>0.452762</td>\n",
       "      <td>0.008419</td>\n",
       "      <td>0.132774</td>\n",
       "    </tr>\n",
       "    <tr>\n",
       "      <th>21580</th>\n",
       "      <td>0.3</td>\n",
       "      <td>0.366667</td>\n",
       "      <td>0.230828</td>\n",
       "      <td>0.005818</td>\n",
       "      <td>0.4</td>\n",
       "      <td>0.0</td>\n",
       "      <td>0.0</td>\n",
       "      <td>0.5</td>\n",
       "      <td>0.7</td>\n",
       "      <td>0.336283</td>\n",
       "      <td>0.000000</td>\n",
       "      <td>0.930435</td>\n",
       "      <td>0.0</td>\n",
       "      <td>0.196970</td>\n",
       "      <td>0.325417</td>\n",
       "      <td>0.010883</td>\n",
       "      <td>0.197061</td>\n",
       "    </tr>\n",
       "    <tr>\n",
       "      <th>21582</th>\n",
       "      <td>0.3</td>\n",
       "      <td>0.333333</td>\n",
       "      <td>0.274867</td>\n",
       "      <td>0.004433</td>\n",
       "      <td>0.4</td>\n",
       "      <td>0.0</td>\n",
       "      <td>0.0</td>\n",
       "      <td>0.5</td>\n",
       "      <td>0.6</td>\n",
       "      <td>0.400442</td>\n",
       "      <td>0.000000</td>\n",
       "      <td>0.895652</td>\n",
       "      <td>0.0</td>\n",
       "      <td>0.262626</td>\n",
       "      <td>0.511272</td>\n",
       "      <td>0.007079</td>\n",
       "      <td>0.096038</td>\n",
       "    </tr>\n",
       "    <tr>\n",
       "      <th>21583</th>\n",
       "      <td>0.4</td>\n",
       "      <td>0.433333</td>\n",
       "      <td>0.311314</td>\n",
       "      <td>0.004584</td>\n",
       "      <td>0.4</td>\n",
       "      <td>0.0</td>\n",
       "      <td>0.0</td>\n",
       "      <td>0.5</td>\n",
       "      <td>0.8</td>\n",
       "      <td>0.453540</td>\n",
       "      <td>0.000000</td>\n",
       "      <td>0.939130</td>\n",
       "      <td>0.0</td>\n",
       "      <td>0.015152</td>\n",
       "      <td>0.409740</td>\n",
       "      <td>0.009549</td>\n",
       "      <td>0.191813</td>\n",
       "    </tr>\n",
       "    <tr>\n",
       "      <th>21589</th>\n",
       "      <td>0.3</td>\n",
       "      <td>0.400000</td>\n",
       "      <td>0.238421</td>\n",
       "      <td>0.004046</td>\n",
       "      <td>0.4</td>\n",
       "      <td>0.0</td>\n",
       "      <td>0.0</td>\n",
       "      <td>0.5</td>\n",
       "      <td>0.6</td>\n",
       "      <td>0.246681</td>\n",
       "      <td>0.188797</td>\n",
       "      <td>0.947826</td>\n",
       "      <td>0.0</td>\n",
       "      <td>0.681818</td>\n",
       "      <td>0.284116</td>\n",
       "      <td>0.006374</td>\n",
       "      <td>0.122278</td>\n",
       "    </tr>\n",
       "  </tbody>\n",
       "</table>\n",
       "<p>4042 rows × 17 columns</p>\n",
       "</div>"
      ],
      "text/plain": [
       "       bedrooms  bathrooms  sqft_living  sqft_lot  floors  waterfront  view  \\\n",
       "5           0.3   0.533333     0.383447  0.061429     0.0         0.0   0.0   \n",
       "21          0.2   0.300000     0.203493  0.026863     0.0         0.0   1.0   \n",
       "26          0.2   0.166667     0.157935  0.001315     0.4         0.0   0.0   \n",
       "41          0.3   0.233333     0.292331  0.014336     0.0         0.0   0.0   \n",
       "42          0.4   0.300000     0.244875  0.003101     0.4         0.0   0.0   \n",
       "...         ...        ...          ...       ...     ...         ...   ...   \n",
       "21576       0.4   0.433333     0.288535  0.004617     0.4         0.0   0.5   \n",
       "21580       0.3   0.366667     0.230828  0.005818     0.4         0.0   0.0   \n",
       "21582       0.3   0.333333     0.274867  0.004433     0.4         0.0   0.0   \n",
       "21583       0.4   0.433333     0.311314  0.004584     0.4         0.0   0.0   \n",
       "21589       0.3   0.400000     0.238421  0.004046     0.4         0.0   0.0   \n",
       "\n",
       "       condition  grade  sqft_above  sqft_basement  yr_built  yr_renovated  \\\n",
       "5            0.5    0.8    0.389381       0.317427  0.878261           0.0   \n",
       "21           0.5    0.6    0.216814       0.149378  0.591304           0.0   \n",
       "26           0.5    0.5    0.152655       0.145228  0.130435           0.0   \n",
       "41           0.5    0.5    0.246681       0.336100  0.730435           0.0   \n",
       "42           0.5    0.6    0.356748       0.000000  0.991304           0.0   \n",
       "...          ...    ...         ...            ...       ...           ...   \n",
       "21576        0.5    0.7    0.420354       0.000000  0.921739           0.0   \n",
       "21580        0.5    0.7    0.336283       0.000000  0.930435           0.0   \n",
       "21582        0.5    0.6    0.400442       0.000000  0.895652           0.0   \n",
       "21583        0.5    0.8    0.453540       0.000000  0.939130           0.0   \n",
       "21589        0.5    0.6    0.246681       0.188797  0.947826           0.0   \n",
       "\n",
       "        zipcode  sqft_living15  sqft_lot15     price  \n",
       "5      0.262626       0.750473    0.116339  0.151141  \n",
       "21     0.196970       0.638616    0.022612  0.252165  \n",
       "26     0.595960       0.234211    0.003357  0.112700  \n",
       "41     0.833333       0.346068    0.034422  0.091446  \n",
       "42     0.262626       0.555154    0.005730  0.102859  \n",
       "...         ...            ...         ...       ...  \n",
       "21576  0.277778       0.452762    0.008419  0.132774  \n",
       "21580  0.196970       0.325417    0.010883  0.197061  \n",
       "21582  0.262626       0.511272    0.007079  0.096038  \n",
       "21583  0.015152       0.409740    0.009549  0.191813  \n",
       "21589  0.681818       0.284116    0.006374  0.122278  \n",
       "\n",
       "[4042 rows x 17 columns]"
      ]
     },
     "execution_count": 192,
     "metadata": {},
     "output_type": "execute_result"
    }
   ],
   "source": [
    "df"
   ]
  },
  {
   "cell_type": "markdown",
   "metadata": {},
   "source": [
    "### 9.2 Use random forest do determine feature importance"
   ]
  },
  {
   "cell_type": "code",
   "execution_count": 207,
   "metadata": {},
   "outputs": [],
   "source": [
    "# import random forest regressor and tool to inspect importance of features\n",
    "from sklearn.datasets import load_boston\n",
    "from sklearn.model_selection import train_test_split\n",
    "from sklearn.ensemble import RandomForestRegressor\n",
    "from sklearn.inspection import permutation_importance\n",
    "from matplotlib import pyplot as plt\n",
    "\n",
    "# set graph size\n",
    "plt.rcParams.update({'figure.figsize': (12.0, 8.0)})\n",
    "plt.rcParams.update({'font.size': 14})"
   ]
  },
  {
   "cell_type": "code",
   "execution_count": 208,
   "metadata": {},
   "outputs": [
    {
     "data": {
      "text/plain": [
       "RandomForestRegressor()"
      ]
     },
     "execution_count": 208,
     "metadata": {},
     "output_type": "execute_result"
    }
   ],
   "source": [
    "# repeat machine learning steps \n",
    "X650 = df.drop('price', axis = 1)\n",
    "y650 = df['price']\n",
    "\n",
    "X650_train, X650_test, y650_train, y650_test = train_test_split(X650, y650, test_size=0.3, random_state=40)\n",
    "\n",
    "prf = RandomForestRegressor(n_estimators=100)\n",
    "prf.fit(X650_train, y650_train)"
   ]
  },
  {
   "cell_type": "code",
   "execution_count": 209,
   "metadata": {},
   "outputs": [
    {
     "data": {
      "text/plain": [
       "array([0.00739359, 0.02223235, 0.44211955, 0.03106747, 0.00551155,\n",
       "       0.07932412, 0.02533263, 0.00789097, 0.04547664, 0.03993193,\n",
       "       0.0167543 , 0.08292652, 0.00863984, 0.09452231, 0.05987727,\n",
       "       0.03099896])"
      ]
     },
     "execution_count": 209,
     "metadata": {},
     "output_type": "execute_result"
    }
   ],
   "source": [
    "prf.feature_importances_  # returns an array listing each features importance regarding price"
   ]
  },
  {
   "cell_type": "code",
   "execution_count": 210,
   "metadata": {},
   "outputs": [
    {
     "data": {
      "image/png": "[encoded data removed]",
      "text/plain": [
       "<Figure size 864x576 with 1 Axes>"
      ]
     },
     "metadata": {},
     "output_type": "display_data"
    }
   ],
   "source": [
    "# y depicts the columns, and the x depicts the features importance regarding price\n",
    "sorted_idx = prf.feature_importances_.argsort()  # add sorting tool\n",
    "plt.barh(X650.columns[sorted_idx], prf.feature_importances_[sorted_idx]); "
   ]
  },
  {
   "cell_type": "code",
   "execution_count": 213,
   "metadata": {},
   "outputs": [],
   "source": [
    "# create csv file in order to depict feature importance in Tableau\n",
    "df_feature_importance = pd.DataFrame(prf.feature_importances_)\n",
    "df_feature_importance.to_csv('feature_importance.csv')"
   ]
  },
  {
   "cell_type": "code",
   "execution_count": null,
   "metadata": {},
   "outputs": [],
   "source": []
  }
 ],
 "metadata": {
  "kernelspec": {
   "display_name": "Python 3",
   "language": "python",
   "name": "python3"
  },
  "language_info": {
   "codemirror_mode": {
    "name": "ipython",
    "version": 3
   },
   "file_extension": ".py",
   "mimetype": "text/x-python",
   "name": "python",
   "nbconvert_exporter": "python",
   "pygments_lexer": "ipython3",
   "version": "3.8.5"
  }
 },
 "nbformat": 4,
 "nbformat_minor": 4
}
